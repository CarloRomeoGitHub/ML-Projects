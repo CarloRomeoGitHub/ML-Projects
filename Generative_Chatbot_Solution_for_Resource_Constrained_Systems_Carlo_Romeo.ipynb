{
  "nbformat": 4,
  "nbformat_minor": 0,
  "metadata": {
    "accelerator": "GPU",
    "colab": {
      "name": "Generative_Chatbot_Solution_for_Resource_Constrained_Systems_Carlo_Romeo.ipynb",
      "provenance": [],
      "collapsed_sections": [
        "MAFktDt-GA_k",
        "Bxiz7_KRGdub",
        "yAX9DtlwlJ7p",
        "fuPv_jCPVMb1",
        "jiPCwPdUVSZ5",
        "SsqnWwebg_2X"
      ],
      "toc_visible": true,
      "include_colab_link": true
    },
    "kernelspec": {
      "display_name": "Python 3",
      "name": "python3"
    }
  },
  "cells": [
    {
      "cell_type": "markdown",
      "metadata": {
        "id": "view-in-github",
        "colab_type": "text"
      },
      "source": [
        "<a href=\"https://colab.research.google.com/github/CarloRomeoGitHub/ML-Projects/blob/master/Generative_Chatbot_Solution_for_Resource_Constrained_Systems_Carlo_Romeo.ipynb\" target=\"_parent\"><img src=\"https://colab.research.google.com/assets/colab-badge.svg\" alt=\"Open In Colab\"/></a>"
      ]
    },
    {
      "cell_type": "code",
      "metadata": {
        "id": "IucGDSeYqMpP",
        "colab": {
          "base_uri": "https://localhost:8080/"
        },
        "outputId": "1390f24f-2349-45ab-ea7d-054cbd07c7e3"
      },
      "source": [
        "from google.colab import drive\n",
        "drive.mount('/content/drive', force_remount=True)"
      ],
      "execution_count": null,
      "outputs": [
        {
          "output_type": "stream",
          "text": [
            "Mounted at /content/drive\n"
          ],
          "name": "stdout"
        }
      ]
    },
    {
      "cell_type": "markdown",
      "metadata": {
        "id": "MAFktDt-GA_k"
      },
      "source": [
        "\r\n",
        "\r\n",
        "## Import\r\n",
        "\r\n",
        "\r\n"
      ]
    },
    {
      "cell_type": "code",
      "metadata": {
        "id": "_kxfdP4hJUPB",
        "colab": {
          "base_uri": "https://localhost:8080/"
        },
        "outputId": "1b5f2f49-67ad-4647-8bb7-0386d1f4d8cd"
      },
      "source": [
        "!python --version\r\n",
        "!pip install tensorflow-addons==0.11.2\r\n",
        "!pip install tensorflow==2.3.0\r\n"
      ],
      "execution_count": null,
      "outputs": [
        {
          "output_type": "stream",
          "text": [
            "Python 3.6.9\n",
            "Collecting tensorflow-addons==0.11.2\n",
            "\u001b[?25l  Downloading https://files.pythonhosted.org/packages/b3/f8/d6fca180c123f2851035c4493690662ebdad0849a9059d56035434bff5c9/tensorflow_addons-0.11.2-cp36-cp36m-manylinux2010_x86_64.whl (1.1MB)\n",
            "\u001b[K     |████████████████████████████████| 1.1MB 9.0MB/s \n",
            "\u001b[?25hRequirement already satisfied: typeguard>=2.7 in /usr/local/lib/python3.6/dist-packages (from tensorflow-addons==0.11.2) (2.7.1)\n",
            "Installing collected packages: tensorflow-addons\n",
            "  Found existing installation: tensorflow-addons 0.8.3\n",
            "    Uninstalling tensorflow-addons-0.8.3:\n",
            "      Successfully uninstalled tensorflow-addons-0.8.3\n",
            "Successfully installed tensorflow-addons-0.11.2\n",
            "Collecting tensorflow==2.3.0\n",
            "\u001b[?25l  Downloading https://files.pythonhosted.org/packages/97/ae/0b08f53498417914f2274cc3b5576d2b83179b0cbb209457d0fde0152174/tensorflow-2.3.0-cp36-cp36m-manylinux2010_x86_64.whl (320.4MB)\n",
            "\u001b[K     |████████████████████████████████| 320.4MB 48kB/s \n",
            "\u001b[?25hRequirement already satisfied: scipy==1.4.1 in /usr/local/lib/python3.6/dist-packages (from tensorflow==2.3.0) (1.4.1)\n",
            "Requirement already satisfied: astunparse==1.6.3 in /usr/local/lib/python3.6/dist-packages (from tensorflow==2.3.0) (1.6.3)\n",
            "Requirement already satisfied: wheel>=0.26 in /usr/local/lib/python3.6/dist-packages (from tensorflow==2.3.0) (0.36.2)\n",
            "Requirement already satisfied: protobuf>=3.9.2 in /usr/local/lib/python3.6/dist-packages (from tensorflow==2.3.0) (3.12.4)\n",
            "Collecting numpy<1.19.0,>=1.16.0\n",
            "\u001b[?25l  Downloading https://files.pythonhosted.org/packages/b3/a9/b1bc4c935ed063766bce7d3e8c7b20bd52e515ff1c732b02caacf7918e5a/numpy-1.18.5-cp36-cp36m-manylinux1_x86_64.whl (20.1MB)\n",
            "\u001b[K     |████████████████████████████████| 20.1MB 1.1MB/s \n",
            "\u001b[?25hCollecting tensorflow-estimator<2.4.0,>=2.3.0\n",
            "\u001b[?25l  Downloading https://files.pythonhosted.org/packages/e9/ed/5853ec0ae380cba4588eab1524e18ece1583b65f7ae0e97321f5ff9dfd60/tensorflow_estimator-2.3.0-py2.py3-none-any.whl (459kB)\n",
            "\u001b[K     |████████████████████████████████| 460kB 52.0MB/s \n",
            "\u001b[?25hRequirement already satisfied: gast==0.3.3 in /usr/local/lib/python3.6/dist-packages (from tensorflow==2.3.0) (0.3.3)\n",
            "Requirement already satisfied: grpcio>=1.8.6 in /usr/local/lib/python3.6/dist-packages (from tensorflow==2.3.0) (1.32.0)\n",
            "Requirement already satisfied: opt-einsum>=2.3.2 in /usr/local/lib/python3.6/dist-packages (from tensorflow==2.3.0) (3.3.0)\n",
            "Requirement already satisfied: six>=1.12.0 in /usr/local/lib/python3.6/dist-packages (from tensorflow==2.3.0) (1.15.0)\n",
            "Requirement already satisfied: wrapt>=1.11.1 in /usr/local/lib/python3.6/dist-packages (from tensorflow==2.3.0) (1.12.1)\n",
            "Requirement already satisfied: tensorboard<3,>=2.3.0 in /usr/local/lib/python3.6/dist-packages (from tensorflow==2.3.0) (2.4.1)\n",
            "Requirement already satisfied: absl-py>=0.7.0 in /usr/local/lib/python3.6/dist-packages (from tensorflow==2.3.0) (0.10.0)\n",
            "Requirement already satisfied: termcolor>=1.1.0 in /usr/local/lib/python3.6/dist-packages (from tensorflow==2.3.0) (1.1.0)\n",
            "Requirement already satisfied: google-pasta>=0.1.8 in /usr/local/lib/python3.6/dist-packages (from tensorflow==2.3.0) (0.2.0)\n",
            "Requirement already satisfied: keras-preprocessing<1.2,>=1.1.1 in /usr/local/lib/python3.6/dist-packages (from tensorflow==2.3.0) (1.1.2)\n",
            "Requirement already satisfied: h5py<2.11.0,>=2.10.0 in /usr/local/lib/python3.6/dist-packages (from tensorflow==2.3.0) (2.10.0)\n",
            "Requirement already satisfied: setuptools in /usr/local/lib/python3.6/dist-packages (from protobuf>=3.9.2->tensorflow==2.3.0) (51.3.3)\n",
            "Requirement already satisfied: markdown>=2.6.8 in /usr/local/lib/python3.6/dist-packages (from tensorboard<3,>=2.3.0->tensorflow==2.3.0) (3.3.3)\n",
            "Requirement already satisfied: tensorboard-plugin-wit>=1.6.0 in /usr/local/lib/python3.6/dist-packages (from tensorboard<3,>=2.3.0->tensorflow==2.3.0) (1.8.0)\n",
            "Requirement already satisfied: werkzeug>=0.11.15 in /usr/local/lib/python3.6/dist-packages (from tensorboard<3,>=2.3.0->tensorflow==2.3.0) (1.0.1)\n",
            "Requirement already satisfied: google-auth-oauthlib<0.5,>=0.4.1 in /usr/local/lib/python3.6/dist-packages (from tensorboard<3,>=2.3.0->tensorflow==2.3.0) (0.4.2)\n",
            "Requirement already satisfied: google-auth<2,>=1.6.3 in /usr/local/lib/python3.6/dist-packages (from tensorboard<3,>=2.3.0->tensorflow==2.3.0) (1.17.2)\n",
            "Requirement already satisfied: requests<3,>=2.21.0 in /usr/local/lib/python3.6/dist-packages (from tensorboard<3,>=2.3.0->tensorflow==2.3.0) (2.23.0)\n",
            "Requirement already satisfied: importlib-metadata; python_version < \"3.8\" in /usr/local/lib/python3.6/dist-packages (from markdown>=2.6.8->tensorboard<3,>=2.3.0->tensorflow==2.3.0) (3.4.0)\n",
            "Requirement already satisfied: requests-oauthlib>=0.7.0 in /usr/local/lib/python3.6/dist-packages (from google-auth-oauthlib<0.5,>=0.4.1->tensorboard<3,>=2.3.0->tensorflow==2.3.0) (1.3.0)\n",
            "Requirement already satisfied: pyasn1-modules>=0.2.1 in /usr/local/lib/python3.6/dist-packages (from google-auth<2,>=1.6.3->tensorboard<3,>=2.3.0->tensorflow==2.3.0) (0.2.8)\n",
            "Requirement already satisfied: cachetools<5.0,>=2.0.0 in /usr/local/lib/python3.6/dist-packages (from google-auth<2,>=1.6.3->tensorboard<3,>=2.3.0->tensorflow==2.3.0) (4.2.1)\n",
            "Requirement already satisfied: rsa<5,>=3.1.4; python_version >= \"3\" in /usr/local/lib/python3.6/dist-packages (from google-auth<2,>=1.6.3->tensorboard<3,>=2.3.0->tensorflow==2.3.0) (4.7)\n",
            "Requirement already satisfied: certifi>=2017.4.17 in /usr/local/lib/python3.6/dist-packages (from requests<3,>=2.21.0->tensorboard<3,>=2.3.0->tensorflow==2.3.0) (2020.12.5)\n",
            "Requirement already satisfied: urllib3!=1.25.0,!=1.25.1,<1.26,>=1.21.1 in /usr/local/lib/python3.6/dist-packages (from requests<3,>=2.21.0->tensorboard<3,>=2.3.0->tensorflow==2.3.0) (1.24.3)\n",
            "Requirement already satisfied: idna<3,>=2.5 in /usr/local/lib/python3.6/dist-packages (from requests<3,>=2.21.0->tensorboard<3,>=2.3.0->tensorflow==2.3.0) (2.10)\n",
            "Requirement already satisfied: chardet<4,>=3.0.2 in /usr/local/lib/python3.6/dist-packages (from requests<3,>=2.21.0->tensorboard<3,>=2.3.0->tensorflow==2.3.0) (3.0.4)\n",
            "Requirement already satisfied: typing-extensions>=3.6.4; python_version < \"3.8\" in /usr/local/lib/python3.6/dist-packages (from importlib-metadata; python_version < \"3.8\"->markdown>=2.6.8->tensorboard<3,>=2.3.0->tensorflow==2.3.0) (3.7.4.3)\n",
            "Requirement already satisfied: zipp>=0.5 in /usr/local/lib/python3.6/dist-packages (from importlib-metadata; python_version < \"3.8\"->markdown>=2.6.8->tensorboard<3,>=2.3.0->tensorflow==2.3.0) (3.4.0)\n",
            "Requirement already satisfied: oauthlib>=3.0.0 in /usr/local/lib/python3.6/dist-packages (from requests-oauthlib>=0.7.0->google-auth-oauthlib<0.5,>=0.4.1->tensorboard<3,>=2.3.0->tensorflow==2.3.0) (3.1.0)\n",
            "Requirement already satisfied: pyasn1<0.5.0,>=0.4.6 in /usr/local/lib/python3.6/dist-packages (from pyasn1-modules>=0.2.1->google-auth<2,>=1.6.3->tensorboard<3,>=2.3.0->tensorflow==2.3.0) (0.4.8)\n",
            "\u001b[31mERROR: datascience 0.10.6 has requirement folium==0.2.1, but you'll have folium 0.8.3 which is incompatible.\u001b[0m\n",
            "\u001b[31mERROR: albumentations 0.1.12 has requirement imgaug<0.2.7,>=0.2.5, but you'll have imgaug 0.2.9 which is incompatible.\u001b[0m\n",
            "Installing collected packages: numpy, tensorflow-estimator, tensorflow\n",
            "  Found existing installation: numpy 1.19.5\n",
            "    Uninstalling numpy-1.19.5:\n",
            "      Successfully uninstalled numpy-1.19.5\n",
            "  Found existing installation: tensorflow-estimator 2.4.0\n",
            "    Uninstalling tensorflow-estimator-2.4.0:\n",
            "      Successfully uninstalled tensorflow-estimator-2.4.0\n",
            "  Found existing installation: tensorflow 2.4.1\n",
            "    Uninstalling tensorflow-2.4.1:\n",
            "      Successfully uninstalled tensorflow-2.4.1\n",
            "Successfully installed numpy-1.18.5 tensorflow-2.3.0 tensorflow-estimator-2.3.0\n"
          ],
          "name": "stdout"
        },
        {
          "output_type": "display_data",
          "data": {
            "application/vnd.colab-display-data+json": {
              "pip_warning": {
                "packages": [
                  "numpy"
                ]
              }
            }
          },
          "metadata": {
            "tags": []
          }
        }
      ]
    },
    {
      "cell_type": "code",
      "metadata": {
        "colab": {
          "base_uri": "https://localhost:8080/"
        },
        "id": "2IhMUUzK1wZe",
        "outputId": "eba4604a-0d60-4b30-f3d2-bcc79ad913c5"
      },
      "source": [
        "!pip install contractions\r\n",
        "!pip install nltk"
      ],
      "execution_count": null,
      "outputs": [
        {
          "output_type": "stream",
          "text": [
            "Collecting contractions\n",
            "  Downloading https://files.pythonhosted.org/packages/4a/5f/91102df95715fdda07f56a7eba2baae983e2ae16a080eb52d79e08ec6259/contractions-0.0.45-py2.py3-none-any.whl\n",
            "Collecting textsearch\n",
            "  Downloading https://files.pythonhosted.org/packages/42/a8/03407021f9555043de5492a2bd7a35c56cc03c2510092b5ec018cae1bbf1/textsearch-0.0.17-py2.py3-none-any.whl\n",
            "Collecting pyahocorasick\n",
            "\u001b[?25l  Downloading https://files.pythonhosted.org/packages/4a/92/b3c70b8cf2b76f7e3e8b7243d6f06f7cb3bab6ada237b1bce57604c5c519/pyahocorasick-1.4.1.tar.gz (321kB)\n",
            "\u001b[K     |████████████████████████████████| 327kB 7.8MB/s \n",
            "\u001b[?25hCollecting Unidecode\n",
            "\u001b[?25l  Downloading https://files.pythonhosted.org/packages/74/65/91eab655041e9e92f948cb7302e54962035762ce7b518272ed9d6b269e93/Unidecode-1.1.2-py2.py3-none-any.whl (239kB)\n",
            "\u001b[K     |████████████████████████████████| 245kB 13.0MB/s \n",
            "\u001b[?25hBuilding wheels for collected packages: pyahocorasick\n",
            "  Building wheel for pyahocorasick (setup.py) ... \u001b[?25l\u001b[?25hdone\n",
            "  Created wheel for pyahocorasick: filename=pyahocorasick-1.4.1-cp36-cp36m-linux_x86_64.whl size=84332 sha256=7fab476ec14b306cb4300574c9fc490931e18009b453c6708eb55ce565659c55\n",
            "  Stored in directory: /root/.cache/pip/wheels/e4/ab/f7/cb39270df8f6126f3dd4c33d302357167086db460968cfc80c\n",
            "Successfully built pyahocorasick\n",
            "Installing collected packages: pyahocorasick, Unidecode, textsearch, contractions\n",
            "Successfully installed Unidecode-1.1.2 contractions-0.0.45 pyahocorasick-1.4.1 textsearch-0.0.17\n",
            "Requirement already satisfied: nltk in /usr/local/lib/python3.6/dist-packages (3.2.5)\n",
            "Requirement already satisfied: six in /usr/local/lib/python3.6/dist-packages (from nltk) (1.15.0)\n"
          ],
          "name": "stdout"
        }
      ]
    },
    {
      "cell_type": "code",
      "metadata": {
        "id": "3pFnEemkzJDc"
      },
      "source": [
        "!wget http://nlp.stanford.edu/data/glove.6B.zip -O glove.zip\r\n",
        "!unzip glove.zip"
      ],
      "execution_count": null,
      "outputs": []
    },
    {
      "cell_type": "markdown",
      "metadata": {
        "id": "_RebXH-JGWaB"
      },
      "source": [
        "\r\n",
        "\r\n",
        "> Import \r\n",
        "\r\n"
      ]
    },
    {
      "cell_type": "code",
      "metadata": {
        "id": "nZNFU5nadLXw"
      },
      "source": [
        "import matplotlib.pyplot as plt\n",
        "import matplotlib.ticker as ticker\n",
        "import pandas as pd \n",
        "import numpy as np\n",
        "import re\n",
        "import random\n",
        "import time\n",
        "import os\n",
        "import io\n",
        "import unicodedata\n",
        "\n",
        "import contractions\n",
        "import nltk\n",
        "from nltk.stem import WordNetLemmatizer\n",
        "from nltk.corpus import stopwords\n",
        "\n",
        "import tensorflow as tf\n",
        "import tensorflow_addons as tfa\n",
        "assert tf.__version__.startswith('2')\n",
        "tf.random.set_seed(1234)\n",
        "\n",
        "from tensorflow import keras\n",
        "from keras.layers import *\n",
        "from keras.models import Model\n",
        "from sklearn.model_selection import train_test_split"
      ],
      "execution_count": null,
      "outputs": []
    },
    {
      "cell_type": "code",
      "metadata": {
        "id": "FGxMy9X-GBSi",
        "colab": {
          "base_uri": "https://localhost:8080/"
        },
        "outputId": "8262e68e-95ea-4e79-d7b9-a8a1986efa04"
      },
      "source": [
        "nltk.download('wordnet')\n",
        "\n",
        "nltk.download('stopwords')\n",
        "\n",
        "stop = set(stopwords.words('english'))\n",
        "len(stop)\n",
        "\n",
        "lemma = WordNetLemmatizer()\n"
      ],
      "execution_count": null,
      "outputs": [
        {
          "output_type": "stream",
          "text": [
            "[nltk_data] Downloading package wordnet to /root/nltk_data...\n",
            "[nltk_data]   Unzipping corpora/wordnet.zip.\n",
            "[nltk_data] Downloading package stopwords to /root/nltk_data...\n",
            "[nltk_data]   Unzipping corpora/stopwords.zip.\n"
          ],
          "name": "stdout"
        }
      ]
    },
    {
      "cell_type": "markdown",
      "metadata": {
        "id": "Bxiz7_KRGdub"
      },
      "source": [
        "\r\n",
        "\r\n",
        "## Preprocessing\r\n",
        "\r\n"
      ]
    },
    {
      "cell_type": "code",
      "metadata": {
        "id": "X6G2oz7xGBSk"
      },
      "source": [
        "keep_list = ['who', 'what', 'when', 'why', 'how', 'which', 'where', 'whom',\n",
        "             'be',  'have', 'do', 'can', 'not', 'will', 'go', 'no', 'to', 'is', 'am', 'are', 'has',\n",
        "             'my', 'your', 'his', 'her', 'its', 'our', 'their',\n",
        "             'i', 'you', 'he', 'she', 'it', 'we', 'they']\n"
      ],
      "execution_count": null,
      "outputs": []
    },
    {
      "cell_type": "code",
      "metadata": {
        "id": "KW_xDV8uDqQn"
      },
      "source": [
        "def remove_contractions(q):\r\n",
        "  \r\n",
        "  sent = ''\r\n",
        "  \r\n",
        "  expanded_words = []\r\n",
        "  t = q.split()\r\n",
        "  for word in t:\r\n",
        "    expanded_words.append(contractions.fix(word))\r\n",
        "    sent = ' '.join(expanded_words)\r\n",
        "\r\n",
        "  return sent"
      ],
      "execution_count": null,
      "outputs": []
    },
    {
      "cell_type": "code",
      "metadata": {
        "id": "-SD49Ym4EgO1"
      },
      "source": [
        "def remove_punct(sentence):\r\n",
        " \r\n",
        "  sentence = sentence.lower().strip()\r\n",
        " \r\n",
        "  sentence = re.sub(r\"([?.!,])\", r\" \\1 \", sentence)\r\n",
        "  \r\n",
        "  sentence = re.sub(r\"[^a-zA-Z?.!,]+\", \" \", sentence)\r\n",
        "  sentence = sentence.strip()\r\n",
        "  return sentence"
      ],
      "execution_count": null,
      "outputs": []
    },
    {
      "cell_type": "code",
      "metadata": {
        "id": "PULQf9_wIKNX"
      },
      "source": [
        "def lemm(q):\r\n",
        "  sent = ''\r\n",
        "\r\n",
        "  token_list = q.split()\r\n",
        "  sent = ' '.join([lemma.lemmatize(token) for token in token_list])\r\n",
        "  \r\n",
        "\r\n",
        "  return sent"
      ],
      "execution_count": null,
      "outputs": []
    },
    {
      "cell_type": "code",
      "metadata": {
        "id": "MFwH-oCTebMU"
      },
      "source": [
        "def len_char(quest):\r\n",
        "  q_len_char = []\r\n",
        "  for line in quest:\r\n",
        "    q_len_char.append(len(line))\r\n",
        "  return q_len_char"
      ],
      "execution_count": null,
      "outputs": []
    },
    {
      "cell_type": "code",
      "metadata": {
        "id": "Jjtg0OYqeo01"
      },
      "source": [
        "def len_word(quest):\r\n",
        "  q_len_word = []\r\n",
        "  for line in quest:\r\n",
        "    t = line.split()\r\n",
        "    q_len_word.append(len(t))\r\n",
        "  return q_len_word"
      ],
      "execution_count": null,
      "outputs": []
    },
    {
      "cell_type": "code",
      "metadata": {
        "id": "eOtjN4QefANk"
      },
      "source": [
        "def mean_calc(list_char_word):\r\n",
        "  q_char_mean = 0\r\n",
        "  for x in list_char_word:\r\n",
        "    q_char_mean += x\r\n",
        "  q_char_mean = q_char_mean/len(list_char_word)\r\n",
        "  return q_char_mean"
      ],
      "execution_count": null,
      "outputs": []
    },
    {
      "cell_type": "code",
      "metadata": {
        "id": "PsbcremLeBfg"
      },
      "source": [
        "def data_stats(q_list, a_list):\r\n",
        "  q_char = len_char(q_list)\r\n",
        "  a_char = len_char(a_list)\r\n",
        "  q_word = len_word(q_list)\r\n",
        "  a_word = len_word(a_list)\r\n",
        "\r\n",
        "  q_char_mean = mean_calc(q_char)\r\n",
        "  a_char_mean = mean_calc(a_char)\r\n",
        "  q_word_mean = mean_calc(q_word)\r\n",
        "  a_word_mean = mean_calc(a_word)\r\n",
        "\r\n",
        "  print('mean char q: ', q_char_mean)\r\n",
        "  print('mean word q: ', q_word_mean)\r\n",
        "  print('mean char a: ', a_char_mean)\r\n",
        "  print('mean word q: ', a_word_mean)"
      ],
      "execution_count": null,
      "outputs": []
    },
    {
      "cell_type": "code",
      "metadata": {
        "id": "XOO3RGJ-W6TA"
      },
      "source": [
        "def limit_range(q, a, rng):\r\n",
        "  q_range = []\r\n",
        "  for i in range(len(q)):\r\n",
        "    t = q[i].split()\r\n",
        "    q_range.append(' '.join(t[:(rng)]))\r\n",
        "  a_range = []\r\n",
        "  for i in range(len(a)):\r\n",
        "    t = a[i].split()\r\n",
        "    a_range.append(' '.join(t[:(rng)]))\r\n",
        "  \r\n",
        "  return q_range, a_range"
      ],
      "execution_count": null,
      "outputs": []
    },
    {
      "cell_type": "code",
      "metadata": {
        "id": "YpslQeTxIzJ8"
      },
      "source": [
        "def create_voc(voc, q, a):\r\n",
        "  for question in q:\r\n",
        "    for word in question.split():\r\n",
        "        if word not in voc:\r\n",
        "            voc[word] = 1\r\n",
        "        else:\r\n",
        "            voc[word] += 1\r\n",
        "\r\n",
        "  for question in a:\r\n",
        "      for word in question.split():\r\n",
        "          if word not in voc:\r\n",
        "              voc[word] = 1\r\n",
        "          else:\r\n",
        "              voc[word] += 1\r\n",
        "  \r\n",
        "  print(\"Size of total vocab:\", len(voc))\r\n",
        "  return voc"
      ],
      "execution_count": null,
      "outputs": []
    },
    {
      "cell_type": "code",
      "metadata": {
        "id": "yr5_qsOAJtZ3"
      },
      "source": [
        "def create_freq_voc(v_q, e_dct, t):\r\n",
        "  word_num = 0\r\n",
        "  for word, count in v_q.items():\r\n",
        "    if count >= t:\r\n",
        "      if word not in e_dct:\r\n",
        "        e_dct[word] = word_num\r\n",
        "        word_num += 1\r\n",
        "  \r\n",
        "  return e_dct"
      ],
      "execution_count": null,
      "outputs": []
    },
    {
      "cell_type": "code",
      "metadata": {
        "id": "_ARZU_HnLb2t"
      },
      "source": [
        "def remove_empty(q, a):\r\n",
        "  for i in q:\r\n",
        "    if i == ' ':\r\n",
        "      del q[q.index(i)]\r\n",
        "      del a[q.index(i)]\r\n",
        "\r\n",
        "  for i in a:\r\n",
        "    if i == ' ':\r\n",
        "      del a[a.index(i)]\r\n",
        "      del q[a.index(i)]\r\n",
        "\r\n",
        "  return q, a"
      ],
      "execution_count": null,
      "outputs": []
    },
    {
      "cell_type": "code",
      "metadata": {
        "id": "LaIj2eVrdOEA"
      },
      "source": [
        "def remove_bad(q, a, bad):\r\n",
        "  questions_f = []\r\n",
        "  answers_f = []\r\n",
        "\r\n",
        "  for line in q:\r\n",
        "    t = line.split()\r\n",
        "    sent = []\r\n",
        "    for word in t:\r\n",
        "      if word not in bad:\r\n",
        "        sent.append(word)\r\n",
        "    questions_f.append(' '.join([y for y in sent]))\r\n",
        "\r\n",
        "  for line in a:\r\n",
        "    t = line.split()\r\n",
        "    sent = []\r\n",
        "    for word in t:\r\n",
        "      if word not in bad:\r\n",
        "        sent.append(word)\r\n",
        "    answers_f.append(' '.join([y for y in sent]))\r\n",
        "  return questions_f, answers_f"
      ],
      "execution_count": null,
      "outputs": []
    },
    {
      "cell_type": "markdown",
      "metadata": {
        "id": "yAX9DtlwlJ7p"
      },
      "source": [
        "## Architecture"
      ]
    },
    {
      "cell_type": "code",
      "metadata": {
        "id": "S17Nfn6W_vhd",
        "colab": {
          "base_uri": "https://localhost:8080/"
        },
        "outputId": "bf9f7c10-3658-4a10-eec9-e08c137d17b7"
      },
      "source": [
        "path_to_zip = tf.keras.utils.get_file(\n",
        "    'cornell_movie_dialogs.zip',\n",
        "    origin=\n",
        "    'http://www.cs.cornell.edu/~cristian/data/cornell_movie_dialogs_corpus.zip',\n",
        "    extract=True)\n",
        "\n",
        "path_to_dataset = os.path.join(\n",
        "    os.path.dirname(path_to_zip), \"cornell movie-dialogs corpus\")\n",
        "\n",
        "path_to_movie_lines = os.path.join(path_to_dataset, 'movie_lines.txt')\n",
        "path_to_movie_conversations = os.path.join(path_to_dataset,\n",
        "                                           'movie_conversations.txt')"
      ],
      "execution_count": null,
      "outputs": [
        {
          "output_type": "stream",
          "text": [
            "Downloading data from http://www.cs.cornell.edu/~cristian/data/cornell_movie_dialogs_corpus.zip\n",
            "9920512/9916637 [==============================] - 1s 0us/step\n"
          ],
          "name": "stdout"
        }
      ]
    },
    {
      "cell_type": "code",
      "metadata": {
        "id": "xZQeuC4oD4ea"
      },
      "source": [
        "def prep_sent(sentence):\r\n",
        "  sentence = remove_contractions(sentence)\r\n",
        "  sentence = remove_punct(sentence)\r\n",
        "  sentence = lemm(sentence)\r\n",
        "  return sentence\r\n"
      ],
      "execution_count": null,
      "outputs": []
    },
    {
      "cell_type": "code",
      "metadata": {
        "id": "_B147qKb_0ks"
      },
      "source": [
        "# Maximum number of samples to preprocess\n",
        "MAX_SAMPLES = 15000\n",
        "\n",
        "\n",
        "def load_conversations():\n",
        "  # dictionary of line id to text\n",
        "  id2line = {}\n",
        "  with open(path_to_movie_lines, errors='ignore') as file:\n",
        "    lines = file.readlines()\n",
        "  for line in lines:\n",
        "    parts = line.replace('\\n', '').split(' +++$+++ ')\n",
        "    id2line[parts[0]] = parts[4]\n",
        "\n",
        "  inputs, outputs = [], []\n",
        "  with open(path_to_movie_conversations, 'r') as file:\n",
        "    lines = file.readlines()\n",
        "  for line in lines:\n",
        "    parts = line.replace('\\n', '').split(' +++$+++ ')\n",
        "    # get conversation in a list of line ID\n",
        "    conversation = [line[1:-1] for line in parts[3][1:-1].split(', ')]\n",
        "    for i in range(len(conversation) - 1):\n",
        "      inputs.append(prep_sent(id2line[conversation[i]]))\n",
        "      outputs.append(prep_sent(id2line[conversation[i + 1]]))\n",
        "      if len(inputs) >= MAX_SAMPLES:\n",
        "        return inputs, outputs\n",
        "  return inputs, outputs\n",
        "\n",
        "\n",
        "questions, answers = load_conversations()"
      ],
      "execution_count": null,
      "outputs": []
    },
    {
      "cell_type": "code",
      "metadata": {
        "id": "2BwoaEwc2PBa"
      },
      "source": [
        "data_stats(questions, answers)"
      ],
      "execution_count": null,
      "outputs": []
    },
    {
      "cell_type": "code",
      "metadata": {
        "id": "wvedd-ZwTVzW"
      },
      "source": [
        "questions, answers = limit_range(questions, answers, 25)"
      ],
      "execution_count": null,
      "outputs": []
    },
    {
      "cell_type": "code",
      "metadata": {
        "id": "cVjpkrNwPfrN",
        "colab": {
          "base_uri": "https://localhost:8080/"
        },
        "outputId": "e75c36a2-cd57-41da-b21f-3e127988e809"
      },
      "source": [
        "voc = {}\r\n",
        "voc = create_voc(voc, questions, answers)\r\n",
        "\r\n",
        "enc_dict = {}\r\n",
        "enc_dict = create_freq_voc(voc, enc_dict, 25)\r\n",
        "print(len(enc_dict))"
      ],
      "execution_count": null,
      "outputs": [
        {
          "output_type": "stream",
          "text": [
            "Size of total vocab: 9695\n",
            "1072\n"
          ],
          "name": "stdout"
        }
      ]
    },
    {
      "cell_type": "code",
      "metadata": {
        "colab": {
          "base_uri": "https://localhost:8080/"
        },
        "id": "tlkll7PWjBA-",
        "outputId": "c1386ea0-7a8a-46fd-a63f-034e8b7cd4ab"
      },
      "source": [
        "word_trend = []\r\n",
        "for i in range(100):\r\n",
        "  enc_dict = {}\r\n",
        "  enc_dict = create_freq_voc(voc, enc_dict, i+1)\r\n",
        "  word_trend.append(len(enc_dict))\r\n",
        "\r\n",
        "print(word_trend)"
      ],
      "execution_count": null,
      "outputs": [
        {
          "output_type": "stream",
          "text": [
            "[18995, 12643, 7127, 5553, 4376, 3724, 3191, 2798, 2471, 2240, 2053, 1883, 1767, 1663, 1558, 1460, 1379, 1311, 1253, 1209, 1136, 1079, 1029, 978, 946, 908, 880, 854, 820, 795, 769, 748, 736, 719, 705, 688, 676, 661, 648, 631, 609, 599, 592, 583, 574, 560, 550, 540, 536, 527, 521, 512, 500, 494, 485, 473, 463, 460, 456, 451, 445, 439, 435, 427, 421, 415, 411, 407, 400, 396, 393, 387, 384, 375, 372, 364, 357, 351, 350, 349, 345, 343, 341, 334, 332, 332, 327, 324, 320, 315, 312, 310, 306, 299, 296, 292, 289, 287, 286, 284]\n"
          ],
          "name": "stdout"
        }
      ]
    },
    {
      "cell_type": "code",
      "metadata": {
        "colab": {
          "base_uri": "https://localhost:8080/",
          "height": 367
        },
        "id": "5Qhm1yKtkV06",
        "outputId": "93e66498-2cab-42e9-c4dd-78f5e86c06e3"
      },
      "source": [
        "fig = plt.figure(figsize=(9,5))\r\n",
        "ax = fig.add_subplot(1, 1, 1)\r\n",
        "line1 = ax.plot(word_trend)\r\n",
        "# line2 = ax.plot(history[2])\r\n",
        "ax.set_title('Words per Threshold')\r\n",
        "ax.set_ylabel('Words')\r\n",
        "ax.set_xlabel('Threshold')\r\n",
        "# ax.legend(('Train Loss', 'Val Loss'))\r\n",
        "# plt.savefig('Model[Units{}Epochs{}Run{}]Loss'.format(units, EPOCHS, run))"
      ],
      "execution_count": null,
      "outputs": [
        {
          "output_type": "execute_result",
          "data": {
            "text/plain": [
              "Text(0.5, 0, 'Threshold')"
            ]
          },
          "metadata": {
            "tags": []
          },
          "execution_count": 34
        },
        {
          "output_type": "display_data",
          "data": {
            "image/png": "[encoded data removed]",
            "text/plain": [
              "<Figure size 648x360 with 1 Axes>"
            ]
          },
          "metadata": {
            "tags": [],
            "needs_background": "light"
          }
        }
      ]
    },
    {
      "cell_type": "code",
      "metadata": {
        "id": "gokfGyYoOz2O"
      },
      "source": [
        "to_remove = []\r\n",
        "for wrd in voc.keys():\r\n",
        "  if wrd not in keep_list:\r\n",
        "    if wrd not in enc_dict:\r\n",
        "      to_remove.append(wrd)"
      ],
      "execution_count": null,
      "outputs": []
    },
    {
      "cell_type": "code",
      "metadata": {
        "id": "KC87GTWYRnb-"
      },
      "source": [
        "questions, answers = remove_bad(questions, answers, to_remove)"
      ],
      "execution_count": null,
      "outputs": []
    },
    {
      "cell_type": "code",
      "metadata": {
        "id": "n2HZIrTh_mZH"
      },
      "source": [
        "questions, answers = limit_range(questions, answers, 5)"
      ],
      "execution_count": null,
      "outputs": []
    },
    {
      "cell_type": "code",
      "metadata": {
        "id": "piuk1UiU0fvx"
      },
      "source": [
        "for i in range(len(questions)):\r\n",
        "  questions[i] = '<start> ' + questions[i] + ' <end>'\r\n",
        "  answers[i] = '<start> ' + answers[i] + ' <end>'"
      ],
      "execution_count": null,
      "outputs": []
    },
    {
      "cell_type": "code",
      "metadata": {
        "id": "tIV_mcOFFPvA"
      },
      "source": [
        "from sklearn.model_selection import train_test_split\r\n",
        "\r\n",
        "def tokenize(lang):\r\n",
        "        \r\n",
        "  lang_tokenizer = tf.keras.preprocessing.text.Tokenizer(filters='', oov_token='<OOV>')\r\n",
        "  lang_tokenizer.fit_on_texts(lang)\r\n",
        "\r\n",
        "  tensor = lang_tokenizer.texts_to_sequences(lang) \r\n",
        "\r\n",
        "  tensor = tf.keras.preprocessing.sequence.pad_sequences(tensor, padding='post')\r\n",
        "\r\n",
        "  return tensor, lang_tokenizer\r\n",
        "\r\n",
        "BUFFER_SIZE = 500\r\n",
        "BATCH_SIZE = 100\r\n",
        "\r\n",
        "input_tensor, inp_lang = tokenize(questions)\r\n",
        "target_tensor, targ_lang = tokenize(answers)\r\n",
        "\r\n",
        "input_tensor_train, input_tensor_val, target_tensor_train, target_tensor_val = train_test_split(input_tensor, target_tensor, test_size=0.1)\r\n",
        "\r\n",
        "train_dataset = tf.data.Dataset.from_tensor_slices((input_tensor_train, target_tensor_train))\r\n",
        "train_dataset = train_dataset.shuffle(BUFFER_SIZE).batch(BATCH_SIZE, drop_remainder=True)\r\n",
        "\r\n",
        "val_dataset = tf.data.Dataset.from_tensor_slices((input_tensor_val, target_tensor_val))\r\n",
        "val_dataset = val_dataset.batch(BATCH_SIZE, drop_remainder=True)"
      ],
      "execution_count": null,
      "outputs": []
    },
    {
      "cell_type": "code",
      "metadata": {
        "id": "HYtRmUPMzoY4"
      },
      "source": [
        "len(questions)\r\n",
        "num_examples = MAX_SAMPLES"
      ],
      "execution_count": null,
      "outputs": []
    },
    {
      "cell_type": "code",
      "metadata": {
        "colab": {
          "base_uri": "https://localhost:8080/"
        },
        "id": "w2lCTy4vKOkB",
        "outputId": "1961178e-ba92-4530-d653-051a907bf081"
      },
      "source": [
        "example_input_batch, example_target_batch = next(iter(train_dataset))\n",
        "example_input_batch.shape, example_target_batch.shape"
      ],
      "execution_count": null,
      "outputs": [
        {
          "output_type": "execute_result",
          "data": {
            "text/plain": [
              "(TensorShape([100, 7]), TensorShape([100, 7]))"
            ]
          },
          "metadata": {
            "tags": []
          },
          "execution_count": 63
        }
      ]
    },
    {
      "cell_type": "code",
      "metadata": {
        "id": "TqHsArVZ3jFS"
      },
      "source": [
        "vocab_inp_size = len(inp_lang.word_index)+1\n",
        "vocab_tar_size = len(targ_lang.word_index)+1\n",
        "max_length_input = example_input_batch.shape[1]\n",
        "max_length_output = example_target_batch.shape[1]\n",
        "\n",
        "units = 1024\n",
        "steps_per_epoch = num_examples//BATCH_SIZE"
      ],
      "execution_count": null,
      "outputs": []
    },
    {
      "cell_type": "code",
      "metadata": {
        "colab": {
          "base_uri": "https://localhost:8080/"
        },
        "id": "g-yY9c6aIu1h",
        "outputId": "32d172b8-7af4-4e7d-841d-eb17f72134f3"
      },
      "source": [
        "print(\"max_length_input, max_length_target, vocab_size_input, vocab_size_target\")\n",
        "max_length_input, max_length_output, vocab_inp_size, vocab_tar_size"
      ],
      "execution_count": null,
      "outputs": [
        {
          "output_type": "stream",
          "text": [
            "max_length_input, max_length_target, vocab_size_input, vocab_size_target\n"
          ],
          "name": "stdout"
        },
        {
          "output_type": "execute_result",
          "data": {
            "text/plain": [
              "(7, 7, 1070, 1067)"
            ]
          },
          "metadata": {
            "tags": []
          },
          "execution_count": 65
        }
      ]
    },
    {
      "cell_type": "code",
      "metadata": {
        "colab": {
          "base_uri": "https://localhost:8080/"
        },
        "id": "kVTvmnRIh4MD",
        "outputId": "3a9d792b-c5b9-4c92-fa63-b47ee3b883bd"
      },
      "source": [
        "embeddings_index = {}\n",
        "with open('/content/drive/MyDrive/Dati/glove.6B.50d.txt', encoding='utf-8') as f:\n",
        "    for line in f:\n",
        "        values = line.split()\n",
        "        word = values[0]\n",
        "        coefs = np.asarray(values[1:], dtype='float16')\n",
        "        embeddings_index[word] = coefs\n",
        "    f.close()\n",
        "\n",
        "print(\"Glove Loded!\")"
      ],
      "execution_count": null,
      "outputs": [
        {
          "output_type": "stream",
          "text": [
            "Glove Loded!\n"
          ],
          "name": "stdout"
        }
      ]
    },
    {
      "cell_type": "code",
      "metadata": {
        "id": "GUbRBznMeKUn"
      },
      "source": [
        "embedding_dimention = 50\r\n",
        "\r\n",
        "embedding_matrix_enc = np.zeros((len(inp_lang.word_index)+1, embedding_dimention))\r\n",
        "for word, i in inp_lang.word_index.items():\r\n",
        "    embedding_vector = embeddings_index.get(word)\r\n",
        "    if embedding_vector is not None:\r\n",
        "      # words not found in embedding index will be all-zeros.\r\n",
        "        embedding_matrix_enc[i] = embedding_vector\r\n",
        "embed_enc = Embedding(len(inp_lang.word_index)+1, \r\n",
        "              50, \r\n",
        "              input_length=max_length_input,\r\n",
        "              trainable=True)\r\n",
        "\r\n",
        "embed_enc.build((None,))\r\n",
        "embed_enc.set_weights([embedding_matrix_enc])"
      ],
      "execution_count": null,
      "outputs": []
    },
    {
      "cell_type": "code",
      "metadata": {
        "id": "tJLI-KwQe8xz"
      },
      "source": [
        "embedding_matrix_dec = np.zeros((len(targ_lang.word_index)+1, embedding_dimention))\r\n",
        "for word, i in targ_lang.word_index.items():\r\n",
        "    embedding_vector = embeddings_index.get(word)\r\n",
        "    if embedding_vector is not None:\r\n",
        "      # words not found in embedding index will be all-zeros.\r\n",
        "        embedding_matrix_dec[i] = embedding_vector\r\n",
        "embed_dec = Embedding(len(targ_lang.word_index)+1, \r\n",
        "              50, \r\n",
        "              \r\n",
        "              input_length=max_length_output,\r\n",
        "              trainable=True)\r\n",
        "\r\n",
        "embed_dec.build((None,))\r\n",
        "embed_dec.set_weights([embedding_matrix_dec])"
      ],
      "execution_count": null,
      "outputs": []
    },
    {
      "cell_type": "code",
      "metadata": {
        "id": "nZ2rI24i3jFg"
      },
      "source": [
        "class Encoder(tf.keras.Model):\n",
        "  def __init__(self, vocab_size, embedding_layer, enc_units, batch_sz):\n",
        "    super(Encoder, self).__init__()\n",
        "    self.batch_sz = batch_sz\n",
        "    self.enc_units = enc_units\n",
        "    # self.embedding = tf.keras.layers.Embedding(vocab_size, embedding_dim)\n",
        "    self.embedding = embedding_layer\n",
        "    ##-------- LSTM layer in Encoder ------- ##\n",
        "    self.lstm_layer = tf.keras.layers.Bidirectional(tf.keras.layers.LSTM(self.enc_units,\n",
        "                                   return_sequences=True,\n",
        "                                   return_state=True,\n",
        "                                   recurrent_initializer='glorot_uniform'\n",
        "                                   ))\n",
        "    \n",
        "\n",
        "\n",
        "  def call(self, x, hidden):\n",
        "    x = self.embedding(x)\n",
        "    output, fh, fc, bh, bc = self.lstm_layer(x, initial_state = hidden)\n",
        "\n",
        "    h = Concatenate()([fh, bh])\n",
        "    c = Concatenate()([fc, bc])\n",
        "    return output, h, c\n",
        "\n",
        "  def initialize_hidden_state(self):\n",
        "    return [tf.zeros((self.batch_sz, self.enc_units)) for i in range(4)] "
      ],
      "execution_count": null,
      "outputs": []
    },
    {
      "cell_type": "code",
      "metadata": {
        "colab": {
          "base_uri": "https://localhost:8080/"
        },
        "id": "60gSVh05Jl6l",
        "outputId": "c2e78a4f-aeca-48b0-a792-227f9a91f45a"
      },
      "source": [
        "## Test Encoder Stack\n",
        "\n",
        "encoder = Encoder(vocab_inp_size, embed_enc, units, BATCH_SIZE)\n",
        "\n",
        "\n",
        "# sample input\n",
        "sample_hidden = encoder.initialize_hidden_state()\n",
        "sample_output, sample_h, sample_c = encoder(example_input_batch, sample_hidden)\n",
        "print ('Encoder output shape: (batch size, sequence length, units) {}'.format(sample_output.shape))\n",
        "print ('Encoder h vecotr shape: (batch size, units) {}'.format(sample_h.shape))\n",
        "print ('Encoder c vector shape: (batch size, units) {}'.format(sample_c.shape))"
      ],
      "execution_count": null,
      "outputs": [
        {
          "output_type": "stream",
          "text": [
            "Encoder output shape: (batch size, sequence length, units) (100, 7, 2048)\n",
            "Encoder h vecotr shape: (batch size, units) (100, 2048)\n",
            "Encoder c vector shape: (batch size, units) (100, 2048)\n"
          ],
          "name": "stdout"
        }
      ]
    },
    {
      "cell_type": "code",
      "metadata": {
        "id": "yJ_B3mhW3jFk"
      },
      "source": [
        "class Decoder(tf.keras.Model):\n",
        "  def __init__(self, vocab_size, embedding_layer, dec_units, batch_sz, attention_type='luong'):\n",
        "    super(Decoder, self).__init__()\n",
        "    self.batch_sz = batch_sz\n",
        "    self.dec_units = dec_units\n",
        "    self.attention_type = attention_type\n",
        "    \n",
        "    # Embedding Layer\n",
        "    # self.embedding = tf.keras.layers.Embedding(vocab_size, embedding_dim)\n",
        "    self.embedding = embedding_layer\n",
        "    \n",
        "    #Final Dense layer on which softmax will be applied\n",
        "    self.fc = tf.keras.layers.Dense(vocab_size)\n",
        "\n",
        "    # Define the fundamental cell for decoder recurrent structure\n",
        "    self.decoder_rnn_cell = tf.keras.layers.LSTMCell(self.dec_units)\n",
        "   \n",
        "\n",
        "\n",
        "    # Sampler\n",
        "    # self.sampler = tfa.seq2seq.sampler.TrainingSampler()\n",
        "    self.sampler = tfa.seq2seq.sampler.ScheduledEmbeddingTrainingSampler(sampling_probability=0.1, embedding_fn=self.embedding) ###\n",
        "\n",
        "    # Create attention mechanism with memory = None\n",
        "    self.attention_mechanism = self.build_attention_mechanism(self.dec_units, \n",
        "                                                              None, self.batch_sz*[max_length_input], self.attention_type)\n",
        "\n",
        "    # Wrap attention mechanism with the fundamental rnn cell of decoder\n",
        "    self.rnn_cell = self.build_rnn_cell(batch_sz)\n",
        "\n",
        "    # Define the decoder with respect to fundamental rnn cell\n",
        "    self.decoder = tfa.seq2seq.BasicDecoder(self.rnn_cell, sampler=self.sampler, output_layer=self.fc)\n",
        "\n",
        "    \n",
        "  def build_rnn_cell(self, batch_sz):\n",
        "    rnn_cell = tfa.seq2seq.AttentionWrapper(self.decoder_rnn_cell, \n",
        "                                  self.attention_mechanism, attention_layer_size=self.dec_units)\n",
        "    return rnn_cell\n",
        "\n",
        "  def build_attention_mechanism(self, dec_units, memory, memory_sequence_length, attention_type='luong'):\n",
        "    # ------------- #\n",
        "    # typ: Which sort of attention (Bahdanau, Luong)\n",
        "    # dec_units: final dimension of attention outputs \n",
        "    # memory: encoder hidden states of shape (batch_size, max_length_input, enc_units)\n",
        "    # memory_sequence_length: 1d array of shape (batch_size) with every element set to max_length_input (for masking purpose)\n",
        "\n",
        "    if(attention_type=='bahdanau'):\n",
        "      return tfa.seq2seq.BahdanauAttention(units=dec_units, memory=memory, memory_sequence_length=memory_sequence_length)\n",
        "    else:\n",
        "      return tfa.seq2seq.LuongAttention(units=dec_units, memory=memory, memory_sequence_length=memory_sequence_length)\n",
        "\n",
        "  def get_attention_weights(self):\n",
        "    w = self.rnn_cell.weights\n",
        "    return w\n",
        "  def build_initial_state(self, batch_sz, encoder_state, Dtype):\n",
        "    decoder_initial_state = self.rnn_cell.get_initial_state(batch_size=batch_sz, dtype=Dtype)\n",
        "    decoder_initial_state = decoder_initial_state.clone(cell_state=encoder_state)\n",
        "    return decoder_initial_state\n",
        "\n",
        "\n",
        "  def call(self, inputs, initial_state):\n",
        "    x = self.embedding(inputs)\n",
        "    outputs, _, _ = self.decoder(x, initial_state=initial_state, sequence_length=self.batch_sz*[max_length_output-1])\n",
        "    \n",
        "    return outputs"
      ],
      "execution_count": null,
      "outputs": []
    },
    {
      "cell_type": "code",
      "metadata": {
        "colab": {
          "base_uri": "https://localhost:8080/"
        },
        "id": "DaiO0Z6_Ml1c",
        "outputId": "218dc33e-3ba2-46b7-c2e1-622e967b6080"
      },
      "source": [
        "# Test decoder stack\n",
        "\n",
        "decoder = Decoder(vocab_tar_size, embed_dec, units*2, BATCH_SIZE, 'luong')\n",
        "sample_x = tf.random.uniform((BATCH_SIZE, max_length_output))\n",
        "decoder.attention_mechanism.setup_memory(sample_output)\n",
        "initial_state = decoder.build_initial_state(BATCH_SIZE, [sample_h, sample_c], tf.float32)\n",
        "\n",
        "\n",
        "sample_decoder_outputs = decoder(sample_x, initial_state)\n",
        "\n",
        "print(\"Decoder Outputs Shape: \", sample_decoder_outputs.rnn_output.shape)\n"
      ],
      "execution_count": null,
      "outputs": [
        {
          "output_type": "stream",
          "text": [
            "Decoder Outputs Shape:  (100, 6, 1067)\n"
          ],
          "name": "stdout"
        }
      ]
    },
    {
      "cell_type": "markdown",
      "metadata": {
        "id": "fuPv_jCPVMb1"
      },
      "source": [
        "##Training"
      ]
    },
    {
      "cell_type": "code",
      "metadata": {
        "id": "WmTHr5iV3jFr"
      },
      "source": [
        "def loss_function(real, pred):\n",
        "  # real shape = (BATCH_SIZE, max_length_output)\n",
        "  # pred shape = (BATCH_SIZE, max_length_output, tar_vocab_size )\n",
        "  cross_entropy = tf.keras.losses.SparseCategoricalCrossentropy(from_logits=True, reduction='none')\n",
        "  loss = cross_entropy(y_true=real, y_pred=pred)\n",
        "  mask = tf.logical_not(tf.math.equal(real,0))   #output 0 for y=0 else output 1\n",
        "  mask = tf.cast(mask, dtype=loss.dtype)  \n",
        "  loss = mask* loss\n",
        "  loss = tf.reduce_mean(loss)\n",
        "  return loss  "
      ],
      "execution_count": null,
      "outputs": []
    },
    {
      "cell_type": "code",
      "metadata": {
        "id": "bmC3hRycTtLZ"
      },
      "source": [
        "from keras import backend as K\r\n",
        "def accuracy_function(real, pred):\r\n",
        "  y_pred = pred\r\n",
        "  y_true = real\r\n",
        "  pred_values = K.cast(K.argmax(y_pred, axis=-1), dtype='int32')\r\n",
        "  correct = K.cast(K.equal(y_true, pred_values), dtype='float32')\r\n",
        "\r\n",
        "  mask = K.cast(K.greater(y_true, 0), dtype='float32')\r\n",
        "  n_correct = K.sum(mask * correct)\r\n",
        "  n_total = K.sum(mask)\r\n",
        "  accuracy = n_correct/n_total\r\n",
        "  accuracy = tf.reduce_mean(accuracy)\r\n",
        "  return accuracy"
      ],
      "execution_count": null,
      "outputs": []
    },
    {
      "cell_type": "code",
      "metadata": {
        "id": "Xg1aLKI5hnd5"
      },
      "source": [
        "optimizer = tf.keras.optimizers.Adam(learning_rate=0.001)"
      ],
      "execution_count": null,
      "outputs": []
    },
    {
      "cell_type": "code",
      "metadata": {
        "id": "xkKIIKFZa-Fq",
        "colab": {
          "base_uri": "https://localhost:8080/"
        },
        "outputId": "aba6b7e4-9833-4048-a639-c1e897342816"
      },
      "source": [
        "!rm -r /content/training_checkpoints/"
      ],
      "execution_count": null,
      "outputs": [
        {
          "output_type": "stream",
          "text": [
            "rm: cannot remove '/content/training_checkpoints/': No such file or directory\n"
          ],
          "name": "stdout"
        }
      ]
    },
    {
      "cell_type": "code",
      "metadata": {
        "id": "Zj8bXQTgNwrF"
      },
      "source": [
        "checkpoint_dir = './training_checkpoints'\n",
        "checkpoint_prefix = os.path.join(checkpoint_dir, \"ckpt\")\n",
        "checkpoint = tf.train.Checkpoint(optimizer=optimizer,\n",
        "                                 encoder=encoder,\n",
        "                                 decoder=decoder)"
      ],
      "execution_count": null,
      "outputs": []
    },
    {
      "cell_type": "code",
      "metadata": {
        "id": "sC9ArXSsVfqn"
      },
      "source": [
        "@tf.function\n",
        "def train_step(inp, targ, enc_hidden):\n",
        "  loss = 0\n",
        "  with tf.GradientTape() as tape:\n",
        "    enc_output, enc_h, enc_c = encoder(inp, enc_hidden)\n",
        "\n",
        "\n",
        "    dec_input = targ[ : , :-1 ] # Ignore <end> token\n",
        "    real = targ[ : , 1: ]         # ignore <start> token\n",
        "\n",
        "    decoder.attention_mechanism.setup_memory(enc_output)\n",
        "\n",
        "    decoder_initial_state = decoder.build_initial_state(BATCH_SIZE, [enc_h, enc_c], tf.float32)\n",
        "    pred= decoder(dec_input, decoder_initial_state)\n",
        "    logits = pred.rnn_output\n",
        "    loss = loss_function(real, logits)\n",
        "    accuracy = accuracy_function(real, logits)\n",
        "\n",
        "  variables = encoder.trainable_variables + decoder.trainable_variables\n",
        "  gradients = tape.gradient(loss, variables)\n",
        "  optimizer.apply_gradients(zip(gradients, variables))\n",
        "\n",
        "  return loss, accuracy"
      ],
      "execution_count": null,
      "outputs": []
    },
    {
      "cell_type": "code",
      "metadata": {
        "id": "shORtigpAhXp"
      },
      "source": [
        "@tf.function\r\n",
        "def val_step(inp, targ, enc_hidden):\r\n",
        "  loss = 0\r\n",
        "\r\n",
        "  with tf.GradientTape() as tape:\r\n",
        "    enc_output, enc_h, enc_c = encoder(inp, enc_hidden)\r\n",
        "\r\n",
        "\r\n",
        "    dec_input = targ[ : , :-1 ] # Ignore <end> token\r\n",
        "    real = targ[ : , 1: ]         # ignore <start> token\r\n",
        "\r\n",
        "    decoder.attention_mechanism.setup_memory(enc_output)\r\n",
        "\r\n",
        "    decoder_initial_state = decoder.build_initial_state(BATCH_SIZE, [enc_h, enc_c], tf.float32)\r\n",
        "    pred= decoder(dec_input, decoder_initial_state)\r\n",
        "    logits = pred.rnn_output\r\n",
        "    loss = loss_function(real, logits)\r\n",
        "    accuracy = accuracy_function(real, logits)\r\n",
        "\r\n",
        "  return loss, accuracy"
      ],
      "execution_count": null,
      "outputs": []
    },
    {
      "cell_type": "code",
      "metadata": {
        "id": "3H5j98oboMfI"
      },
      "source": [
        "run = 0"
      ],
      "execution_count": null,
      "outputs": []
    },
    {
      "cell_type": "code",
      "metadata": {
        "id": "Xw7B1JBiUdMI"
      },
      "source": [
        "import warnings\r\n",
        "warnings.filterwarnings('ignore')"
      ],
      "execution_count": null,
      "outputs": []
    },
    {
      "cell_type": "code",
      "metadata": {
        "id": "ddefjBMa3jF0",
        "colab": {
          "base_uri": "https://localhost:8080/"
        },
        "outputId": "3ad19ed2-4b66-4343-d900-41204a167fd6"
      },
      "source": [
        "EPOCHS = 100\n",
        "train_loss_vec = []\n",
        "train_accuracy_vec = []\n",
        "val_loss_vec = []\n",
        "val_accuracy_vec = []\n",
        "time_vec = []\n",
        "run += 1\n",
        "print('---TRAINING PHASE---\\n')\n",
        "print('MODEL: UNITS {} EPOCHS {} RUN {}'.format(units, EPOCHS, run))\n",
        "start_training = time.time()\n",
        "with tf.device('/gpu:0'):\n",
        "  for epoch in range(EPOCHS):\n",
        "    start = time.time()\n",
        "\n",
        "    enc_hidden = encoder.initialize_hidden_state()\n",
        "    total_train_loss = 0\n",
        "    total_train_accuracy = 0\n",
        "    total_val_loss = 0\n",
        "    total_val_accuracy = 0\n",
        "    \n",
        "\n",
        "    for (batch, (inp, targ)) in enumerate(train_dataset.take(steps_per_epoch)):\n",
        "      train_loss, train_accuracy = train_step(inp, targ, enc_hidden)\n",
        "      total_train_loss += train_loss\n",
        "      total_train_accuracy += train_accuracy\n",
        "\n",
        "\n",
        "    train_loss_vec.append('{:.4f}'.format(total_train_loss / steps_per_epoch))\n",
        "    train_accuracy_vec.append('{:.4f}'.format(total_train_accuracy / steps_per_epoch))\n",
        "      \n",
        "    for (batch, (inp, targ)) in enumerate(val_dataset.take(steps_per_epoch)):\n",
        "      val_loss, val_accuracy = val_step(inp, targ, enc_hidden)\n",
        "      total_val_loss += val_loss\n",
        "      total_val_accuracy += val_accuracy\n",
        "\n",
        "      \n",
        "    val_loss_vec.append('{:.4f}'.format(total_val_loss / steps_per_epoch))\n",
        "    val_accuracy_vec.append('{:.4f}'.format(total_val_accuracy / steps_per_epoch))\n",
        "\n",
        "\n",
        "    \n",
        "    if (epoch + 1) % 20 == 0:\n",
        "      checkpoint.save(file_prefix = checkpoint_prefix)\n",
        "\n",
        "    print('Epoch: {} | Loss: {:.4f} | Accuracy: {:.4f} | Val Loss: {:.4f} | Val Accuracy: {:.4f}'.format(epoch + 1,\n",
        "                                        total_train_loss / steps_per_epoch,\n",
        "                                        total_train_accuracy / steps_per_epoch,\n",
        "                                        total_val_loss / steps_per_epoch,\n",
        "                                        total_val_accuracy / steps_per_epoch\n",
        "                                        ))\n",
        "    \n",
        "    epoch_time = time.time() - start\n",
        "    time_vec.append(epoch_time)\n",
        "    print('Time taken for epoch {} {} sec\\n'.format(epoch +1 , epoch_time))\n",
        "  total_time = time.time() - start_training\n",
        "  print('Time taken for the whole training phase is: {} sec'.format(total_time))\n",
        "\n"
      ],
      "execution_count": null,
      "outputs": [
        {
          "output_type": "stream",
          "text": [
            "---TRAINING PHASE---\n",
            "\n",
            "MODEL: UNITS 1024 EPOCHS 100 RUN 1\n",
            "Epoch: 1 | Loss: 3.5535 | Accuracy: 0.2179 | Val Loss: 0.3536 | Val Accuracy: 0.0291\n",
            "Time taken for epoch 1 20.91599941253662 sec\n",
            "\n",
            "Epoch: 2 | Loss: 3.0567 | Accuracy: 0.2792 | Val Loss: 0.3336 | Val Accuracy: 0.0332\n",
            "Time taken for epoch 2 10.06523323059082 sec\n",
            "\n",
            "Epoch: 3 | Loss: 2.9162 | Accuracy: 0.2968 | Val Loss: 0.3258 | Val Accuracy: 0.0340\n",
            "Time taken for epoch 3 10.083886623382568 sec\n",
            "\n",
            "Epoch: 4 | Loss: 2.8239 | Accuracy: 0.3058 | Val Loss: 0.3230 | Val Accuracy: 0.0347\n",
            "Time taken for epoch 4 10.292307615280151 sec\n",
            "\n",
            "Epoch: 5 | Loss: 2.7478 | Accuracy: 0.3117 | Val Loss: 0.3236 | Val Accuracy: 0.0350\n",
            "Time taken for epoch 5 10.09179425239563 sec\n",
            "\n",
            "Epoch: 6 | Loss: 2.6792 | Accuracy: 0.3163 | Val Loss: 0.3238 | Val Accuracy: 0.0344\n",
            "Time taken for epoch 6 10.104376554489136 sec\n",
            "\n",
            "Epoch: 7 | Loss: 2.6046 | Accuracy: 0.3218 | Val Loss: 0.3295 | Val Accuracy: 0.0338\n",
            "Time taken for epoch 7 10.050174474716187 sec\n",
            "\n",
            "Epoch: 8 | Loss: 2.5155 | Accuracy: 0.3298 | Val Loss: 0.3398 | Val Accuracy: 0.0332\n",
            "Time taken for epoch 8 10.051727294921875 sec\n",
            "\n",
            "Epoch: 9 | Loss: 2.4294 | Accuracy: 0.3383 | Val Loss: 0.3444 | Val Accuracy: 0.0330\n",
            "Time taken for epoch 9 10.060835599899292 sec\n",
            "\n",
            "Epoch: 10 | Loss: 2.3261 | Accuracy: 0.3521 | Val Loss: 0.3498 | Val Accuracy: 0.0329\n",
            "Time taken for epoch 10 10.089646339416504 sec\n",
            "\n",
            "Epoch: 11 | Loss: 2.2056 | Accuracy: 0.3696 | Val Loss: 0.3610 | Val Accuracy: 0.0327\n",
            "Time taken for epoch 11 10.048998594284058 sec\n",
            "\n",
            "Epoch: 12 | Loss: 2.0884 | Accuracy: 0.3895 | Val Loss: 0.3739 | Val Accuracy: 0.0319\n",
            "Time taken for epoch 12 10.058338403701782 sec\n",
            "\n",
            "Epoch: 13 | Loss: 2.0050 | Accuracy: 0.4038 | Val Loss: 0.3828 | Val Accuracy: 0.0310\n",
            "Time taken for epoch 13 10.033226728439331 sec\n",
            "\n",
            "Epoch: 14 | Loss: 1.8588 | Accuracy: 0.4317 | Val Loss: 0.3960 | Val Accuracy: 0.0304\n",
            "Time taken for epoch 14 10.106167793273926 sec\n",
            "\n",
            "Epoch: 15 | Loss: 1.7348 | Accuracy: 0.4567 | Val Loss: 0.4087 | Val Accuracy: 0.0298\n",
            "Time taken for epoch 15 10.032101154327393 sec\n",
            "\n",
            "Epoch: 16 | Loss: 1.6289 | Accuracy: 0.4800 | Val Loss: 0.4185 | Val Accuracy: 0.0301\n",
            "Time taken for epoch 16 9.986425161361694 sec\n",
            "\n",
            "Epoch: 17 | Loss: 1.5421 | Accuracy: 0.4984 | Val Loss: 0.4443 | Val Accuracy: 0.0289\n",
            "Time taken for epoch 17 10.014307022094727 sec\n",
            "\n",
            "Epoch: 18 | Loss: 1.4690 | Accuracy: 0.5146 | Val Loss: 0.4435 | Val Accuracy: 0.0286\n",
            "Time taken for epoch 18 10.031658172607422 sec\n",
            "\n",
            "Epoch: 19 | Loss: 1.4218 | Accuracy: 0.5263 | Val Loss: 0.4579 | Val Accuracy: 0.0285\n",
            "Time taken for epoch 19 9.969201803207397 sec\n",
            "\n",
            "Epoch: 20 | Loss: 1.3391 | Accuracy: 0.5463 | Val Loss: 0.4742 | Val Accuracy: 0.0285\n",
            "Time taken for epoch 20 12.57133936882019 sec\n",
            "\n",
            "Epoch: 21 | Loss: 1.2526 | Accuracy: 0.5661 | Val Loss: 0.4887 | Val Accuracy: 0.0283\n",
            "Time taken for epoch 21 10.025676012039185 sec\n",
            "\n",
            "Epoch: 22 | Loss: 1.2020 | Accuracy: 0.5786 | Val Loss: 0.4850 | Val Accuracy: 0.0282\n",
            "Time taken for epoch 22 9.988981246948242 sec\n",
            "\n",
            "Epoch: 23 | Loss: 1.1337 | Accuracy: 0.5939 | Val Loss: 0.5079 | Val Accuracy: 0.0276\n",
            "Time taken for epoch 23 9.936927556991577 sec\n",
            "\n",
            "Epoch: 24 | Loss: 1.0637 | Accuracy: 0.6128 | Val Loss: 0.5203 | Val Accuracy: 0.0272\n",
            "Time taken for epoch 24 9.954769849777222 sec\n",
            "\n",
            "Epoch: 25 | Loss: 1.0007 | Accuracy: 0.6289 | Val Loss: 0.5199 | Val Accuracy: 0.0280\n",
            "Time taken for epoch 25 9.94351840019226 sec\n",
            "\n",
            "Epoch: 26 | Loss: 0.9662 | Accuracy: 0.6364 | Val Loss: 0.5407 | Val Accuracy: 0.0273\n",
            "Time taken for epoch 26 9.945969581604004 sec\n",
            "\n",
            "Epoch: 27 | Loss: 0.9162 | Accuracy: 0.6512 | Val Loss: 0.5452 | Val Accuracy: 0.0269\n",
            "Time taken for epoch 27 9.916661977767944 sec\n",
            "\n",
            "Epoch: 28 | Loss: 0.8636 | Accuracy: 0.6633 | Val Loss: 0.5478 | Val Accuracy: 0.0267\n",
            "Time taken for epoch 28 9.96132230758667 sec\n",
            "\n",
            "Epoch: 29 | Loss: 0.8180 | Accuracy: 0.6769 | Val Loss: 0.5603 | Val Accuracy: 0.0272\n",
            "Time taken for epoch 29 9.965952396392822 sec\n",
            "\n",
            "Epoch: 30 | Loss: 0.7708 | Accuracy: 0.6891 | Val Loss: 0.5770 | Val Accuracy: 0.0267\n",
            "Time taken for epoch 30 9.905855894088745 sec\n",
            "\n",
            "Epoch: 31 | Loss: 0.7419 | Accuracy: 0.6959 | Val Loss: 0.5783 | Val Accuracy: 0.0267\n",
            "Time taken for epoch 31 9.917377471923828 sec\n",
            "\n",
            "Epoch: 32 | Loss: 0.7403 | Accuracy: 0.6951 | Val Loss: 0.5777 | Val Accuracy: 0.0273\n",
            "Time taken for epoch 32 9.877960205078125 sec\n",
            "\n",
            "Epoch: 33 | Loss: 0.7833 | Accuracy: 0.6848 | Val Loss: 0.5957 | Val Accuracy: 0.0272\n",
            "Time taken for epoch 33 9.9366295337677 sec\n",
            "\n",
            "Epoch: 34 | Loss: 0.6687 | Accuracy: 0.7172 | Val Loss: 0.6118 | Val Accuracy: 0.0268\n",
            "Time taken for epoch 34 9.956298351287842 sec\n",
            "\n",
            "Epoch: 35 | Loss: 0.5826 | Accuracy: 0.7421 | Val Loss: 0.6223 | Val Accuracy: 0.0263\n",
            "Time taken for epoch 35 10.05656909942627 sec\n",
            "\n",
            "Epoch: 36 | Loss: 0.5645 | Accuracy: 0.7446 | Val Loss: 0.6255 | Val Accuracy: 0.0267\n",
            "Time taken for epoch 36 9.908422946929932 sec\n",
            "\n",
            "Epoch: 37 | Loss: 0.5641 | Accuracy: 0.7436 | Val Loss: 0.6250 | Val Accuracy: 0.0265\n",
            "Time taken for epoch 37 9.937097311019897 sec\n",
            "\n",
            "Epoch: 38 | Loss: 0.5275 | Accuracy: 0.7561 | Val Loss: 0.6399 | Val Accuracy: 0.0268\n",
            "Time taken for epoch 38 9.874724388122559 sec\n",
            "\n",
            "Epoch: 39 | Loss: 0.5197 | Accuracy: 0.7584 | Val Loss: 0.6510 | Val Accuracy: 0.0264\n",
            "Time taken for epoch 39 9.91340708732605 sec\n",
            "\n",
            "Epoch: 40 | Loss: 0.5131 | Accuracy: 0.7591 | Val Loss: 0.6607 | Val Accuracy: 0.0256\n",
            "Time taken for epoch 40 12.29672884941101 sec\n",
            "\n",
            "Epoch: 41 | Loss: 0.4839 | Accuracy: 0.7710 | Val Loss: 0.6505 | Val Accuracy: 0.0263\n",
            "Time taken for epoch 41 9.966581583023071 sec\n",
            "\n",
            "Epoch: 42 | Loss: 0.5221 | Accuracy: 0.7551 | Val Loss: 0.6530 | Val Accuracy: 0.0263\n",
            "Time taken for epoch 42 9.877139806747437 sec\n",
            "\n",
            "Epoch: 43 | Loss: 0.4906 | Accuracy: 0.7644 | Val Loss: 0.6688 | Val Accuracy: 0.0266\n",
            "Time taken for epoch 43 9.902394533157349 sec\n",
            "\n",
            "Epoch: 44 | Loss: 0.4519 | Accuracy: 0.7760 | Val Loss: 0.6661 | Val Accuracy: 0.0260\n",
            "Time taken for epoch 44 9.993172883987427 sec\n",
            "\n",
            "Epoch: 45 | Loss: 0.4266 | Accuracy: 0.7829 | Val Loss: 0.6768 | Val Accuracy: 0.0260\n",
            "Time taken for epoch 45 9.879610776901245 sec\n",
            "\n",
            "Epoch: 46 | Loss: 0.4309 | Accuracy: 0.7822 | Val Loss: 0.6826 | Val Accuracy: 0.0266\n",
            "Time taken for epoch 46 9.897637367248535 sec\n",
            "\n",
            "Epoch: 47 | Loss: 0.4252 | Accuracy: 0.7841 | Val Loss: 0.6668 | Val Accuracy: 0.0265\n",
            "Time taken for epoch 47 9.862977504730225 sec\n",
            "\n",
            "Epoch: 48 | Loss: 0.3835 | Accuracy: 0.7959 | Val Loss: 0.6891 | Val Accuracy: 0.0267\n",
            "Time taken for epoch 48 9.879343509674072 sec\n",
            "\n",
            "Epoch: 49 | Loss: 0.3649 | Accuracy: 0.8009 | Val Loss: 0.6840 | Val Accuracy: 0.0268\n",
            "Time taken for epoch 49 9.884512662887573 sec\n",
            "\n",
            "Epoch: 50 | Loss: 0.4757 | Accuracy: 0.7701 | Val Loss: 0.6879 | Val Accuracy: 0.0258\n",
            "Time taken for epoch 50 9.896222829818726 sec\n",
            "\n",
            "Epoch: 51 | Loss: 0.4943 | Accuracy: 0.7646 | Val Loss: 0.6614 | Val Accuracy: 0.0265\n",
            "Time taken for epoch 51 9.893286228179932 sec\n",
            "\n",
            "Epoch: 52 | Loss: 0.4868 | Accuracy: 0.7666 | Val Loss: 0.6919 | Val Accuracy: 0.0253\n",
            "Time taken for epoch 52 9.893083095550537 sec\n",
            "\n",
            "Epoch: 53 | Loss: 0.5843 | Accuracy: 0.7441 | Val Loss: 0.6564 | Val Accuracy: 0.0263\n",
            "Time taken for epoch 53 9.880048274993896 sec\n",
            "\n",
            "Epoch: 54 | Loss: 0.6326 | Accuracy: 0.7254 | Val Loss: 0.6636 | Val Accuracy: 0.0263\n",
            "Time taken for epoch 54 9.890149116516113 sec\n",
            "\n",
            "Epoch: 55 | Loss: 0.4631 | Accuracy: 0.7731 | Val Loss: 0.6772 | Val Accuracy: 0.0268\n",
            "Time taken for epoch 55 9.897118330001831 sec\n",
            "\n",
            "Epoch: 56 | Loss: 0.3649 | Accuracy: 0.8020 | Val Loss: 0.6748 | Val Accuracy: 0.0272\n",
            "Time taken for epoch 56 9.902760744094849 sec\n",
            "\n",
            "Epoch: 57 | Loss: 0.3346 | Accuracy: 0.8093 | Val Loss: 0.6958 | Val Accuracy: 0.0266\n",
            "Time taken for epoch 57 9.86992597579956 sec\n",
            "\n",
            "Epoch: 58 | Loss: 0.3112 | Accuracy: 0.8160 | Val Loss: 0.6964 | Val Accuracy: 0.0264\n",
            "Time taken for epoch 58 9.872116327285767 sec\n",
            "\n",
            "Epoch: 59 | Loss: 0.2880 | Accuracy: 0.8232 | Val Loss: 0.7017 | Val Accuracy: 0.0266\n",
            "Time taken for epoch 59 9.914185762405396 sec\n",
            "\n",
            "Epoch: 60 | Loss: 0.2481 | Accuracy: 0.8325 | Val Loss: 0.7189 | Val Accuracy: 0.0267\n",
            "Time taken for epoch 60 12.10529351234436 sec\n",
            "\n",
            "Epoch: 61 | Loss: 0.2390 | Accuracy: 0.8373 | Val Loss: 0.7137 | Val Accuracy: 0.0265\n",
            "Time taken for epoch 61 9.921860933303833 sec\n",
            "\n",
            "Epoch: 62 | Loss: 0.2381 | Accuracy: 0.8366 | Val Loss: 0.7216 | Val Accuracy: 0.0267\n",
            "Time taken for epoch 62 9.882153272628784 sec\n",
            "\n",
            "Epoch: 63 | Loss: 0.2424 | Accuracy: 0.8348 | Val Loss: 0.7409 | Val Accuracy: 0.0263\n",
            "Time taken for epoch 63 9.912278175354004 sec\n",
            "\n",
            "Epoch: 64 | Loss: 0.2592 | Accuracy: 0.8284 | Val Loss: 0.7317 | Val Accuracy: 0.0261\n",
            "Time taken for epoch 64 9.889979600906372 sec\n",
            "\n",
            "Epoch: 65 | Loss: 0.2925 | Accuracy: 0.8192 | Val Loss: 0.7130 | Val Accuracy: 0.0266\n",
            "Time taken for epoch 65 9.915165185928345 sec\n",
            "\n",
            "Epoch: 66 | Loss: 0.3006 | Accuracy: 0.8166 | Val Loss: 0.7362 | Val Accuracy: 0.0263\n",
            "Time taken for epoch 66 10.008204460144043 sec\n",
            "\n",
            "Epoch: 67 | Loss: 0.2818 | Accuracy: 0.8246 | Val Loss: 0.7370 | Val Accuracy: 0.0263\n",
            "Time taken for epoch 67 9.897908926010132 sec\n",
            "\n",
            "Epoch: 68 | Loss: 0.2613 | Accuracy: 0.8287 | Val Loss: 0.7361 | Val Accuracy: 0.0258\n",
            "Time taken for epoch 68 9.934230089187622 sec\n",
            "\n",
            "Epoch: 69 | Loss: 0.2544 | Accuracy: 0.8291 | Val Loss: 0.7263 | Val Accuracy: 0.0260\n",
            "Time taken for epoch 69 9.893674850463867 sec\n",
            "\n",
            "Epoch: 70 | Loss: 0.2565 | Accuracy: 0.8302 | Val Loss: 0.7431 | Val Accuracy: 0.0260\n",
            "Time taken for epoch 70 9.868437767028809 sec\n",
            "\n",
            "Epoch: 71 | Loss: 0.2484 | Accuracy: 0.8309 | Val Loss: 0.7512 | Val Accuracy: 0.0267\n",
            "Time taken for epoch 71 9.865622758865356 sec\n",
            "\n",
            "Epoch: 72 | Loss: 0.2451 | Accuracy: 0.8327 | Val Loss: 0.7485 | Val Accuracy: 0.0263\n",
            "Time taken for epoch 72 9.870975255966187 sec\n",
            "\n",
            "Epoch: 73 | Loss: 0.2437 | Accuracy: 0.8344 | Val Loss: 0.7404 | Val Accuracy: 0.0265\n",
            "Time taken for epoch 73 9.872070789337158 sec\n",
            "\n",
            "Epoch: 74 | Loss: 0.2493 | Accuracy: 0.8324 | Val Loss: 0.7410 | Val Accuracy: 0.0260\n",
            "Time taken for epoch 74 9.890513896942139 sec\n",
            "\n",
            "Epoch: 75 | Loss: 0.2587 | Accuracy: 0.8289 | Val Loss: 0.7408 | Val Accuracy: 0.0265\n",
            "Time taken for epoch 75 9.949354410171509 sec\n",
            "\n",
            "Epoch: 76 | Loss: 0.4717 | Accuracy: 0.7729 | Val Loss: 0.7186 | Val Accuracy: 0.0254\n",
            "Time taken for epoch 76 9.933225393295288 sec\n",
            "\n",
            "Epoch: 77 | Loss: 0.5423 | Accuracy: 0.7511 | Val Loss: 0.7303 | Val Accuracy: 0.0263\n",
            "Time taken for epoch 77 9.894039154052734 sec\n",
            "\n",
            "Epoch: 78 | Loss: 0.3811 | Accuracy: 0.7953 | Val Loss: 0.7240 | Val Accuracy: 0.0264\n",
            "Time taken for epoch 78 9.875914812088013 sec\n",
            "\n",
            "Epoch: 79 | Loss: 0.2899 | Accuracy: 0.8198 | Val Loss: 0.7446 | Val Accuracy: 0.0260\n",
            "Time taken for epoch 79 9.875512838363647 sec\n",
            "\n",
            "Epoch: 80 | Loss: 0.2468 | Accuracy: 0.8318 | Val Loss: 0.7387 | Val Accuracy: 0.0263\n",
            "Time taken for epoch 80 12.1469087600708 sec\n",
            "\n",
            "Epoch: 81 | Loss: 0.2513 | Accuracy: 0.8304 | Val Loss: 0.7594 | Val Accuracy: 0.0261\n",
            "Time taken for epoch 81 9.937146663665771 sec\n",
            "\n",
            "Epoch: 82 | Loss: 0.2304 | Accuracy: 0.8372 | Val Loss: 0.7666 | Val Accuracy: 0.0259\n",
            "Time taken for epoch 82 9.880357265472412 sec\n",
            "\n",
            "Epoch: 83 | Loss: 0.2402 | Accuracy: 0.8355 | Val Loss: 0.7647 | Val Accuracy: 0.0263\n",
            "Time taken for epoch 83 9.897995710372925 sec\n",
            "\n",
            "Epoch: 84 | Loss: 0.2330 | Accuracy: 0.8369 | Val Loss: 0.7761 | Val Accuracy: 0.0263\n",
            "Time taken for epoch 84 9.94118857383728 sec\n",
            "\n",
            "Epoch: 85 | Loss: 0.2208 | Accuracy: 0.8399 | Val Loss: 0.7522 | Val Accuracy: 0.0268\n",
            "Time taken for epoch 85 9.884177446365356 sec\n",
            "\n",
            "Epoch: 86 | Loss: 0.2235 | Accuracy: 0.8384 | Val Loss: 0.7574 | Val Accuracy: 0.0258\n",
            "Time taken for epoch 86 9.875850439071655 sec\n",
            "\n",
            "Epoch: 87 | Loss: 0.2495 | Accuracy: 0.8311 | Val Loss: 0.7676 | Val Accuracy: 0.0261\n",
            "Time taken for epoch 87 9.887578964233398 sec\n",
            "\n",
            "Epoch: 88 | Loss: 0.2334 | Accuracy: 0.8350 | Val Loss: 0.7782 | Val Accuracy: 0.0262\n",
            "Time taken for epoch 88 9.882318019866943 sec\n",
            "\n",
            "Epoch: 89 | Loss: 0.2225 | Accuracy: 0.8376 | Val Loss: 0.7719 | Val Accuracy: 0.0265\n",
            "Time taken for epoch 89 9.866530656814575 sec\n",
            "\n",
            "Epoch: 90 | Loss: 0.2104 | Accuracy: 0.8412 | Val Loss: 0.7746 | Val Accuracy: 0.0262\n",
            "Time taken for epoch 90 9.889075994491577 sec\n",
            "\n",
            "Epoch: 91 | Loss: 0.2572 | Accuracy: 0.8295 | Val Loss: 0.7778 | Val Accuracy: 0.0255\n",
            "Time taken for epoch 91 9.867300271987915 sec\n",
            "\n",
            "Epoch: 92 | Loss: 0.3379 | Accuracy: 0.8063 | Val Loss: 0.7704 | Val Accuracy: 0.0258\n",
            "Time taken for epoch 92 9.887892246246338 sec\n",
            "\n",
            "Epoch: 93 | Loss: 0.2963 | Accuracy: 0.8172 | Val Loss: 0.7751 | Val Accuracy: 0.0260\n",
            "Time taken for epoch 93 9.897214412689209 sec\n",
            "\n",
            "Epoch: 94 | Loss: 0.2937 | Accuracy: 0.8192 | Val Loss: 0.7705 | Val Accuracy: 0.0260\n",
            "Time taken for epoch 94 9.893706560134888 sec\n",
            "\n",
            "Epoch: 95 | Loss: 0.2724 | Accuracy: 0.8246 | Val Loss: 0.7695 | Val Accuracy: 0.0261\n",
            "Time taken for epoch 95 9.902430295944214 sec\n",
            "\n",
            "Epoch: 96 | Loss: 0.2812 | Accuracy: 0.8241 | Val Loss: 0.7660 | Val Accuracy: 0.0269\n",
            "Time taken for epoch 96 9.910830736160278 sec\n",
            "\n",
            "Epoch: 97 | Loss: 0.3326 | Accuracy: 0.8099 | Val Loss: 0.7815 | Val Accuracy: 0.0255\n",
            "Time taken for epoch 97 10.042763233184814 sec\n",
            "\n",
            "Epoch: 98 | Loss: 0.3263 | Accuracy: 0.8097 | Val Loss: 0.7597 | Val Accuracy: 0.0260\n",
            "Time taken for epoch 98 9.871774196624756 sec\n",
            "\n",
            "Epoch: 99 | Loss: 0.3012 | Accuracy: 0.8181 | Val Loss: 0.7592 | Val Accuracy: 0.0262\n",
            "Time taken for epoch 99 9.888856410980225 sec\n",
            "\n",
            "Epoch: 100 | Loss: 0.4225 | Accuracy: 0.7918 | Val Loss: 0.7513 | Val Accuracy: 0.0259\n",
            "Time taken for epoch 100 12.181822299957275 sec\n",
            "\n",
            "Time taken for the whole training phase is: 1016.644978761673 sec\n"
          ],
          "name": "stdout"
        }
      ]
    },
    {
      "cell_type": "code",
      "metadata": {
        "id": "UJpT9D5_OgP6",
        "colab": {
          "base_uri": "https://localhost:8080/"
        },
        "outputId": "6b8399a5-a7db-4214-ec60-6e08b86bd38c"
      },
      "source": [
        "# restoring the latest checkpoint in checkpoint_dir\n",
        "checkpoint.restore(tf.train.latest_checkpoint(checkpoint_dir))"
      ],
      "execution_count": null,
      "outputs": [
        {
          "output_type": "execute_result",
          "data": {
            "text/plain": [
              "<tensorflow.python.training.tracking.util.CheckpointLoadStatus at 0x7fa99a8bd940>"
            ]
          },
          "metadata": {
            "tags": []
          },
          "execution_count": 86
        }
      ]
    },
    {
      "cell_type": "code",
      "metadata": {
        "id": "DxYDO-wrBUAa"
      },
      "source": [
        "f=open('History{}Units{}Epochs{}Run.txt'.format(units, EPOCHS, run),'w')\r\n",
        "# f.write('Total time:\\t' + str(total_time) + '\\t' + 'sec' + '\\n')\r\n",
        "f.write('TrainLoss\\t' + 'TrainAccuracy\\t' + 'ValLoss\\t' + 'ValAccuracy\\t' + 'Time\\n')\r\n",
        "for e in range(len(train_loss_vec)):\r\n",
        "    f.write(train_loss_vec[e]+'\\t'+ train_accuracy_vec[e]+ '\\t' + val_loss_vec[e]+ '\\t' + val_accuracy_vec[e]+ '\\t' + str(time_vec[e]) + '\\n')\r\n",
        "\r\n",
        "\r\n",
        "f.close()"
      ],
      "execution_count": null,
      "outputs": []
    },
    {
      "cell_type": "code",
      "metadata": {
        "id": "GERgZiI7BJUm"
      },
      "source": [
        "history = [[],[],[],[], []]\r\n",
        "with open('History{}Units{}Epochs{}Run.txt'.format(units, EPOCHS, run)) as infile:\r\n",
        "  next(infile)\r\n",
        "  for line in infile:\r\n",
        "        history[0].append(float(line.split()[0]))\r\n",
        "        history[1].append(float(line.split()[1]))\r\n",
        "        history[2].append(float(line.split()[2]))\r\n",
        "        history[3].append(float(line.split()[3]))\r\n",
        "        history[4].append(float(line.split()[4]))"
      ],
      "execution_count": null,
      "outputs": []
    },
    {
      "cell_type": "code",
      "metadata": {
        "id": "idFzaOp0MaW9",
        "colab": {
          "base_uri": "https://localhost:8080/",
          "height": 683
        },
        "outputId": "08091d22-1852-4fab-a3c4-b1c8802a0728"
      },
      "source": [
        "#Model Loss\r\n",
        "fig = plt.figure(figsize=(9,5))\r\n",
        "ax = fig.add_subplot(1, 1, 1)\r\n",
        "line1 = ax.plot(history[0])\r\n",
        "line2 = ax.plot(history[2])\r\n",
        "ax.set_title('Model Loss')\r\n",
        "ax.set_ylabel('Loss')\r\n",
        "ax.set_xlabel('Epochs')\r\n",
        "ax.legend(('Train Loss', 'Val Loss'))\r\n",
        "plt.savefig('Model[Units{}Epochs{}Run{}]Loss'.format(units, EPOCHS, run))\r\n",
        "\r\n",
        "#Model Accuracy\r\n",
        "fig = plt.figure(figsize=(9,5))\r\n",
        "ax = fig.add_subplot(1, 1, 1)\r\n",
        "line1 = ax.plot(history[1])\r\n",
        "line2 = ax.plot(history[3])\r\n",
        "ax.set_title('Model Accuracy')\r\n",
        "ax.set_ylabel('Accuracy')\r\n",
        "ax.set_xlabel('Epochs')\r\n",
        "ax.legend(('Train Accuracy', 'Val Accuracy'))\r\n",
        "plt.savefig('Model[Units{}Epochs{}Run{}]Accuracy'.format(units, EPOCHS, run))"
      ],
      "execution_count": null,
      "outputs": [
        {
          "output_type": "display_data",
          "data": {
            "image/png": "[encoded data removed]",
            "text/plain": [
              "<Figure size 648x360 with 1 Axes>"
            ]
          },
          "metadata": {
            "tags": [],
            "needs_background": "light"
          }
        },
        {
          "output_type": "display_data",
          "data": {
            "image/png": "[encoded data removed]",
            "text/plain": [
              "<Figure size 648x360 with 1 Axes>"
            ]
          },
          "metadata": {
            "tags": [],
            "needs_background": "light"
          }
        }
      ]
    },
    {
      "cell_type": "markdown",
      "metadata": {
        "id": "jiPCwPdUVSZ5"
      },
      "source": [
        "##Inference"
      ]
    },
    {
      "cell_type": "code",
      "metadata": {
        "id": "XhkcWcijMop5"
      },
      "source": [
        "def preprocess_sentence(sentence):\r\n",
        "\r\n",
        "  sentence = prep_sent(sentence)\r\n",
        "  sentence = '<start> ' + sentence + ' <end>'\r\n",
        "  return sentence"
      ],
      "execution_count": null,
      "outputs": []
    },
    {
      "cell_type": "code",
      "metadata": {
        "id": "mRtlN3aKHTSq"
      },
      "source": [
        "def plot_attention(attention, sentence, predicted_sentence):\r\n",
        "  fig = plt.figure(figsize=(5,5))\r\n",
        "  ax = fig.add_subplot(1, 1, 1)\r\n",
        "  ax.matshow(attention, cmap='viridis')\r\n",
        "\r\n",
        "  fontdict = {'fontsize': 14}\r\n",
        "\r\n",
        "  ax.set_xticklabels([''] + sentence, fontdict=fontdict, rotation=90)\r\n",
        "  ax.set_yticklabels([''] + predicted_sentence, fontdict=fontdict)\r\n",
        "\r\n",
        "  ax.xaxis.set_major_locator(ticker.MultipleLocator(1))\r\n",
        "  ax.yaxis.set_major_locator(ticker.MultipleLocator(1))\r\n",
        "\r\n",
        "  plt.show()"
      ],
      "execution_count": null,
      "outputs": []
    },
    {
      "cell_type": "code",
      "metadata": {
        "id": "EbQpyYs13jF_"
      },
      "source": [
        "def evaluate_sentence(sentence):\n",
        "  sentence = preprocess_sentence(sentence)\n",
        "\n",
        "  inputs = [inp_lang.word_index[i] for i in sentence.split(' ')]\n",
        "  inputs = tf.keras.preprocessing.sequence.pad_sequences([inputs],\n",
        "                                                          maxlen=max_length_input,\n",
        "                                                          padding='post')\n",
        "  inputs = tf.convert_to_tensor(inputs)\n",
        "  inference_batch_size = inputs.shape[0]\n",
        "  result = ''\n",
        "\n",
        "  enc_start_state = [tf.zeros((inference_batch_size, units)) for i in range(4)] # check\n",
        "  enc_out, enc_h, enc_c = encoder(inputs, enc_start_state)\n",
        "\n",
        "  dec_h = enc_h\n",
        "  dec_c = enc_c\n",
        "\n",
        "  start_tokens = tf.fill([inference_batch_size], targ_lang.word_index['<start>'])\n",
        "  end_token = targ_lang.word_index['<end>']\n",
        "\n",
        "  emb_sampler = tfa.seq2seq.SampleEmbeddingSampler()\n",
        "\n",
        "  decoder_instance = tfa.seq2seq.BasicDecoder(cell=decoder.rnn_cell, sampler=emb_sampler, output_layer=decoder.fc)\n",
        "\n",
        "  decoder.attention_mechanism.setup_memory(enc_out)\n",
        "\n",
        "  decoder_initial_state = decoder.build_initial_state(inference_batch_size, [enc_h, enc_c], tf.float32)\n",
        "\n",
        "  decoder_embedding_matrix = decoder.embedding.variables[0]\n",
        "  \n",
        "  outputs, _, _  = decoder_instance(decoder_embedding_matrix, start_tokens = start_tokens, end_token= end_token, initial_state=decoder_initial_state)\n",
        "  attentions = decoder.get_attention_weights()\n",
        "\n",
        "  return outputs.sample_id.numpy(), attentions\n",
        "\n",
        "def translate(sentence):\n",
        "  result, attention_plot = evaluate_sentence(sentence)\n",
        "  plot = [attention_plot[i].numpy() for i in range(len(attention_plot))]\n",
        "\n",
        "  result = targ_lang.sequences_to_texts(result)\n",
        "  result_cast = str(result[0]).split(' ')\n",
        "  sentence_cast = sentence.split(' ')\n",
        "\n",
        "  print('Chatbot Output: {}'.format(result[0]))\n",
        "\n",
        "  len_res = len(result_cast)\n",
        "  len_sent = len(sentence_cast)\n",
        "  plt = plot\n",
        "  plot = plot[0][:len_res, :len_sent]\n",
        "  plot_attention(plot, sentence_cast, result_cast)\n",
        "  print('----------------------------')"
      ],
      "execution_count": null,
      "outputs": []
    },
    {
      "cell_type": "code",
      "metadata": {
        "id": "QZWTacz9Bcrj"
      },
      "source": [
        "\r\n",
        "class ChatBot:\r\n",
        "  exit_commands = (\"quit\", \"pause\", \"exit\", \"goodbye\", \"bye\", \"later\", \"stop\")\r\n",
        "  def start_chat(self):\r\n",
        "    user_response = input(\"Hello, I am T-800. How can I destroy you?\\n\")\r\n",
        "    \r\n",
        "    self.chat(user_response)\r\n",
        "\r\n",
        "  def chat(self, reply):\r\n",
        "    while not self.make_exit(reply):\r\n",
        "      reply = input(str(translate(reply))+\"\\n\")\r\n",
        "    \r\n",
        "\r\n",
        "  def make_exit(self, reply):\r\n",
        "    for exit_command in self.exit_commands:\r\n",
        "      if exit_command in reply:\r\n",
        "        print(\"Ok, see you in Matrix!\")\r\n",
        "        return True\r\n",
        "    return False\r\n",
        "  \r\n",
        "chatbot = ChatBot()"
      ],
      "execution_count": null,
      "outputs": []
    },
    {
      "cell_type": "code",
      "metadata": {
        "id": "ONvJeTWOIymk"
      },
      "source": [
        ""
      ],
      "execution_count": null,
      "outputs": []
    },
    {
      "cell_type": "markdown",
      "metadata": {
        "id": "SsqnWwebg_2X"
      },
      "source": [
        "## Dialogue"
      ]
    },
    {
      "cell_type": "code",
      "metadata": {
        "id": "zRLj8vpWASyo",
        "colab": {
          "base_uri": "https://localhost:8080/",
          "height": 1000
        },
        "outputId": "19468d70-afae-402a-bd36-c23487bb8507"
      },
      "source": [
        "chatbot.start_chat()"
      ],
      "execution_count": null,
      "outputs": [
        {
          "output_type": "stream",
          "text": [
            "Hello, I am T-800. How can I destroy you?\n",
            "Hello \n",
            "Chatbot Output: you been here with you <end>\n"
          ],
          "name": "stdout"
        },
        {
          "output_type": "display_data",
          "data": {
            "image/png": "[encoded data removed]",
            "text/plain": [
              "<Figure size 360x360 with 1 Axes>"
            ]
          },
          "metadata": {
            "tags": [],
            "needs_background": "light"
          }
        },
        {
          "output_type": "stream",
          "text": [
            "----------------------------\n",
            "None\n",
            "What's your name?\n",
            "Chatbot Output: yes , sir . . <end>\n"
          ],
          "name": "stdout"
        },
        {
          "output_type": "display_data",
          "data": {
            "image/png": "[encoded data removed]",
            "text/plain": [
              "<Figure size 360x360 with 1 Axes>"
            ]
          },
          "metadata": {
            "tags": [],
            "needs_background": "light"
          }
        },
        {
          "output_type": "stream",
          "text": [
            "----------------------------\n",
            "None\n",
            "How are you?\n",
            "Chatbot Output: with not think i am <end>\n"
          ],
          "name": "stdout"
        },
        {
          "output_type": "display_data",
          "data": {
            "image/png": "[encoded data removed]",
            "text/plain": [
              "<Figure size 360x360 with 1 Axes>"
            ]
          },
          "metadata": {
            "tags": [],
            "needs_background": "light"
          }
        },
        {
          "output_type": "stream",
          "text": [
            "----------------------------\n",
            "None\n",
            "Are you alive?\n",
            "Chatbot Output: i want to see in <end>\n"
          ],
          "name": "stdout"
        },
        {
          "output_type": "display_data",
          "data": {
            "image/png": "[encoded data removed]",
            "text/plain": [
              "<Figure size 360x360 with 1 Axes>"
            ]
          },
          "metadata": {
            "tags": [],
            "needs_background": "light"
          }
        },
        {
          "output_type": "stream",
          "text": [
            "----------------------------\n",
            "None\n",
            "Do you believe in god?\n",
            "Chatbot Output: yes , we can ? <end>\n"
          ],
          "name": "stdout"
        },
        {
          "output_type": "display_data",
          "data": {
            "image/png": "[encoded data removed]",
            "text/plain": [
              "<Figure size 360x360 with 1 Axes>"
            ]
          },
          "metadata": {
            "tags": [],
            "needs_background": "light"
          }
        },
        {
          "output_type": "stream",
          "text": [
            "----------------------------\n",
            "None\n",
            "Are we alone?\n",
            "Chatbot Output: yes . <end>\n"
          ],
          "name": "stdout"
        },
        {
          "output_type": "display_data",
          "data": {
            "image/png": "[encoded data removed]",
            "text/plain": [
              "<Figure size 360x360 with 1 Axes>"
            ]
          },
          "metadata": {
            "tags": [],
            "needs_background": "light"
          }
        },
        {
          "output_type": "stream",
          "text": [
            "----------------------------\n",
            "None\n",
            "Do you love me?\n",
            "Chatbot Output: i asked love you . <end>\n"
          ],
          "name": "stdout"
        },
        {
          "output_type": "display_data",
          "data": {
            "image/png": "[encoded data removed]",
            "text/plain": [
              "<Figure size 360x360 with 1 Axes>"
            ]
          },
          "metadata": {
            "tags": [],
            "needs_background": "light"
          }
        },
        {
          "output_type": "stream",
          "text": [
            "----------------------------\n",
            "None\n",
            "I am your father\n",
            "Chatbot Output: a . <end>\n"
          ],
          "name": "stdout"
        },
        {
          "output_type": "display_data",
          "data": {
            "image/png": "[encoded data removed]",
            "text/plain": [
              "<Figure size 360x360 with 1 Axes>"
            ]
          },
          "metadata": {
            "tags": [],
            "needs_background": "light"
          }
        },
        {
          "output_type": "stream",
          "text": [
            "----------------------------\n",
            "None\n",
            "bye\n",
            "Ok, see you in Matrix!\n"
          ],
          "name": "stdout"
        }
      ]
    },
    {
      "cell_type": "code",
      "metadata": {
        "id": "cuDDcjjEHDpV"
      },
      "source": [
        ""
      ],
      "execution_count": null,
      "outputs": []
    },
    {
      "cell_type": "code",
      "metadata": {
        "id": "Uu9ZuEyHwH0F",
        "colab": {
          "base_uri": "https://localhost:8080/",
          "height": 1000
        },
        "outputId": "88cf6d85-781f-4ab7-ca96-02185c0bb1f7"
      },
      "source": [
        "# feed the model with its previous output\r\n",
        "sentence = 'You are not alone!'\r\n",
        "for _ in range(5):\r\n",
        "  sentence = str(translate(sentence))\r\n",
        "  print('')"
      ],
      "execution_count": null,
      "outputs": [
        {
          "output_type": "stream",
          "text": [
            "Chatbot Output: i have seen nick i <end>\n"
          ],
          "name": "stdout"
        },
        {
          "output_type": "display_data",
          "data": {
            "image/png": "[encoded data removed]",
            "text/plain": [
              "<Figure size 360x360 with 1 Axes>"
            ]
          },
          "metadata": {
            "tags": [],
            "needs_background": "light"
          }
        },
        {
          "output_type": "stream",
          "text": [
            "----------------------------\n",
            "\n",
            "Chatbot Output: did they down the mother <end>\n"
          ],
          "name": "stdout"
        },
        {
          "output_type": "display_data",
          "data": {
            "image/png": "[encoded data removed]",
            "text/plain": [
              "<Figure size 360x360 with 1 Axes>"
            ]
          },
          "metadata": {
            "tags": [],
            "needs_background": "light"
          }
        },
        {
          "output_type": "stream",
          "text": [
            "----------------------------\n",
            "\n",
            "Chatbot Output: the land were you know <end>\n"
          ],
          "name": "stdout"
        },
        {
          "output_type": "display_data",
          "data": {
            "image/png": "[encoded data removed]",
            "text/plain": [
              "<Figure size 360x360 with 1 Axes>"
            ]
          },
          "metadata": {
            "tags": [],
            "needs_background": "light"
          }
        },
        {
          "output_type": "stream",
          "text": [
            "----------------------------\n",
            "\n",
            "Chatbot Output: did they find it ? <end>\n"
          ],
          "name": "stdout"
        },
        {
          "output_type": "display_data",
          "data": {
            "image/png": "[encoded data removed]",
            "text/plain": [
              "<Figure size 360x360 with 1 Axes>"
            ]
          },
          "metadata": {
            "tags": [],
            "needs_background": "light"
          }
        },
        {
          "output_type": "stream",
          "text": [
            "----------------------------\n",
            "\n",
            "Chatbot Output: what is it ? <end>\n"
          ],
          "name": "stdout"
        },
        {
          "output_type": "display_data",
          "data": {
            "image/png": "[encoded data removed]",
            "text/plain": [
              "<Figure size 360x360 with 1 Axes>"
            ]
          },
          "metadata": {
            "tags": [],
            "needs_background": "light"
          }
        },
        {
          "output_type": "stream",
          "text": [
            "----------------------------\n",
            "\n"
          ],
          "name": "stdout"
        }
      ]
    }
  ]
}