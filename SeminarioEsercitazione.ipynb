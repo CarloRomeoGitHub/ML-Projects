{
  "nbformat": 4,
  "nbformat_minor": 0,
  "metadata": {
    "colab": {
      "name": "SeminarioEsercitazione.ipynb",
      "provenance": [],
      "collapsed_sections": [],
      "include_colab_link": true
    },
    "kernelspec": {
      "name": "python3",
      "display_name": "Python 3"
    },
    "accelerator": "GPU"
  },
  "cells": [
    {
      "cell_type": "markdown",
      "metadata": {
        "id": "view-in-github",
        "colab_type": "text"
      },
      "source": [
        "<a href=\"https://colab.research.google.com/github/CarloRomeoGitHub/ML-exercises/blob/master/SeminarioEsercitazione.ipynb\" target=\"_parent\"><img src=\"https://colab.research.google.com/assets/colab-badge.svg\" alt=\"Open In Colab\"/></a>"
      ]
    },
    {
      "cell_type": "code",
      "metadata": {
        "id": "xRfdeYbzNi0T",
        "colab_type": "code",
        "outputId": "cdfb3a5e-1657-403d-c2e1-531c6e4d4911",
        "colab": {
          "base_uri": "https://localhost:8080/",
          "height": 34
        }
      },
      "source": [
        "%tensorflow_version 2.x\n"
      ],
      "execution_count": 0,
      "outputs": [
        {
          "output_type": "stream",
          "text": [
            "TensorFlow is already loaded. Please restart the runtime to change versions.\n"
          ],
          "name": "stdout"
        }
      ]
    },
    {
      "cell_type": "code",
      "metadata": {
        "id": "ulSRmVIctEuP",
        "colab_type": "code",
        "outputId": "68fd0288-4f4c-4fc3-bca7-7be52e5740e7",
        "colab": {
          "base_uri": "https://localhost:8080/",
          "height": 827
        }
      },
      "source": [
        "!pip install pyod\n",
        "!pip install --upgrade pyod"
      ],
      "execution_count": 0,
      "outputs": [
        {
          "output_type": "stream",
          "text": [
            "Collecting pyod\n",
            "\u001b[?25l  Downloading https://files.pythonhosted.org/packages/de/e4/9410fe258c4ea39b197f2b7adb9e293665e6db7427d0e91858430dd4450b/pyod-0.7.5.1.tar.gz (85kB)\n",
            "\r\u001b[K     |███▉                            | 10kB 29.9MB/s eta 0:00:01\r\u001b[K     |███████▋                        | 20kB 2.9MB/s eta 0:00:01\r\u001b[K     |███████████▍                    | 30kB 4.3MB/s eta 0:00:01\r\u001b[K     |███████████████▎                | 40kB 2.9MB/s eta 0:00:01\r\u001b[K     |███████████████████             | 51kB 3.5MB/s eta 0:00:01\r\u001b[K     |██████████████████████▉         | 61kB 4.2MB/s eta 0:00:01\r\u001b[K     |██████████████████████████▊     | 71kB 4.9MB/s eta 0:00:01\r\u001b[K     |██████████████████████████████▌ | 81kB 5.5MB/s eta 0:00:01\r\u001b[K     |████████████████████████████████| 92kB 4.6MB/s \n",
            "\u001b[?25hRequirement already satisfied: joblib in /usr/local/lib/python3.6/dist-packages (from pyod) (0.14.0)\n",
            "Requirement already satisfied: matplotlib in /usr/local/lib/python3.6/dist-packages (from pyod) (3.1.2)\n",
            "Requirement already satisfied: numpy>=1.13 in /usr/local/lib/python3.6/dist-packages (from pyod) (1.17.4)\n",
            "Requirement already satisfied: numba>=0.35 in /usr/local/lib/python3.6/dist-packages (from pyod) (0.40.1)\n",
            "Requirement already satisfied: scipy>=0.19.1 in /usr/local/lib/python3.6/dist-packages (from pyod) (1.3.3)\n",
            "Collecting scikit_learn<=0.21.*,>=0.19.1\n",
            "\u001b[?25l  Downloading https://files.pythonhosted.org/packages/96/5b/5da31a6572dc6b7b2846a7cfcbe2e060a0e6af0e1059a6516965e40371b7/scikit_learn-0.20.4-cp36-cp36m-manylinux1_x86_64.whl (5.4MB)\n",
            "\u001b[K     |████████████████████████████████| 5.4MB 14.1MB/s \n",
            "\u001b[?25hRequirement already satisfied: six in /usr/local/lib/python3.6/dist-packages (from pyod) (1.12.0)\n",
            "Requirement already satisfied: pyparsing!=2.0.4,!=2.1.2,!=2.1.6,>=2.0.1 in /usr/local/lib/python3.6/dist-packages (from matplotlib->pyod) (2.4.5)\n",
            "Requirement already satisfied: kiwisolver>=1.0.1 in /usr/local/lib/python3.6/dist-packages (from matplotlib->pyod) (1.1.0)\n",
            "Requirement already satisfied: python-dateutil>=2.1 in /usr/local/lib/python3.6/dist-packages (from matplotlib->pyod) (2.6.1)\n",
            "Requirement already satisfied: cycler>=0.10 in /usr/local/lib/python3.6/dist-packages (from matplotlib->pyod) (0.10.0)\n",
            "Requirement already satisfied: llvmlite>=0.25.0dev0 in /usr/local/lib/python3.6/dist-packages (from numba>=0.35->pyod) (0.30.0)\n",
            "Requirement already satisfied: setuptools in /usr/local/lib/python3.6/dist-packages (from kiwisolver>=1.0.1->matplotlib->pyod) (42.0.2)\n",
            "Building wheels for collected packages: pyod\n",
            "  Building wheel for pyod (setup.py) ... \u001b[?25l\u001b[?25hdone\n",
            "  Created wheel for pyod: filename=pyod-0.7.5.1-cp36-none-any.whl size=96256 sha256=b228a015a1f1b8d0b92bb94abe1d82a3bc7406e4f41253b093924d791fba72c3\n",
            "  Stored in directory: /root/.cache/pip/wheels/ff/bf/31/2cd882186a1fffffe3b90b25056b6a7dcd6183b4336faaea55\n",
            "Successfully built pyod\n",
            "Installing collected packages: scikit-learn, pyod\n",
            "  Found existing installation: scikit-learn 0.21.3\n",
            "    Uninstalling scikit-learn-0.21.3:\n",
            "      Successfully uninstalled scikit-learn-0.21.3\n",
            "Successfully installed pyod-0.7.5.1 scikit-learn-0.20.4\n"
          ],
          "name": "stdout"
        },
        {
          "output_type": "display_data",
          "data": {
            "application/vnd.colab-display-data+json": {
              "pip_warning": {
                "packages": [
                  "sklearn"
                ]
              }
            }
          },
          "metadata": {
            "tags": []
          }
        },
        {
          "output_type": "stream",
          "text": [
            "Requirement already up-to-date: pyod in /usr/local/lib/python3.6/dist-packages (0.7.5.1)\n",
            "Requirement already satisfied, skipping upgrade: matplotlib in /usr/local/lib/python3.6/dist-packages (from pyod) (3.1.2)\n",
            "Requirement already satisfied, skipping upgrade: scipy>=0.19.1 in /usr/local/lib/python3.6/dist-packages (from pyod) (1.3.3)\n",
            "Requirement already satisfied, skipping upgrade: numpy>=1.13 in /usr/local/lib/python3.6/dist-packages (from pyod) (1.17.4)\n",
            "Requirement already satisfied, skipping upgrade: numba>=0.35 in /usr/local/lib/python3.6/dist-packages (from pyod) (0.40.1)\n",
            "Requirement already satisfied, skipping upgrade: joblib in /usr/local/lib/python3.6/dist-packages (from pyod) (0.14.0)\n",
            "Requirement already satisfied, skipping upgrade: scikit-learn<=0.21.*,>=0.19.1 in /usr/local/lib/python3.6/dist-packages (from pyod) (0.20.4)\n",
            "Requirement already satisfied, skipping upgrade: six in /usr/local/lib/python3.6/dist-packages (from pyod) (1.12.0)\n",
            "Requirement already satisfied, skipping upgrade: cycler>=0.10 in /usr/local/lib/python3.6/dist-packages (from matplotlib->pyod) (0.10.0)\n",
            "Requirement already satisfied, skipping upgrade: kiwisolver>=1.0.1 in /usr/local/lib/python3.6/dist-packages (from matplotlib->pyod) (1.1.0)\n",
            "Requirement already satisfied, skipping upgrade: pyparsing!=2.0.4,!=2.1.2,!=2.1.6,>=2.0.1 in /usr/local/lib/python3.6/dist-packages (from matplotlib->pyod) (2.4.5)\n",
            "Requirement already satisfied, skipping upgrade: python-dateutil>=2.1 in /usr/local/lib/python3.6/dist-packages (from matplotlib->pyod) (2.6.1)\n",
            "Requirement already satisfied, skipping upgrade: llvmlite>=0.25.0dev0 in /usr/local/lib/python3.6/dist-packages (from numba>=0.35->pyod) (0.30.0)\n",
            "Requirement already satisfied, skipping upgrade: setuptools in /usr/local/lib/python3.6/dist-packages (from kiwisolver>=1.0.1->matplotlib->pyod) (42.0.2)\n"
          ],
          "name": "stdout"
        }
      ]
    },
    {
      "cell_type": "code",
      "metadata": {
        "id": "5jjZsh6cN0d_",
        "colab_type": "code",
        "outputId": "ab70f918-cbad-4ad9-c6c0-8f46722e5362",
        "colab": {
          "base_uri": "https://localhost:8080/",
          "height": 79
        }
      },
      "source": [
        "import pandas as pd\n",
        "from sklearn import preprocessing\n",
        "from sklearn.model_selection import train_test_split\n",
        "import matplotlib.pyplot as plt\n",
        "from tensorflow.keras.layers import Dense, Activation\n",
        "from tensorflow.keras.models import Sequential\n",
        "from sklearn.metrics import accuracy_score, confusion_matrix, recall_score, precision_score\n",
        "from tensorflow.keras import callbacks\n",
        "import numpy as np\n",
        "from sklearn.preprocessing import LabelEncoder, MinMaxScaler\n",
        "from sklearn.model_selection import train_test_split\n",
        "from tensorflow.keras.layers import *\n",
        "from scipy import stats\n",
        "from pyod.models.abod import ABOD\n",
        "from pyod.models.knn import KNN\n"
      ],
      "execution_count": 0,
      "outputs": [
        {
          "output_type": "display_data",
          "data": {
            "text/html": [
              "<p style=\"color: red;\">\n",
              "The default version of TensorFlow in Colab will soon switch to TensorFlow 2.x.<br>\n",
              "We recommend you <a href=\"https://www.tensorflow.org/guide/migrate\" target=\"_blank\">upgrade</a> now \n",
              "or ensure your notebook will continue to use TensorFlow 1.x via the <code>%tensorflow_version 1.x</code> magic:\n",
              "<a href=\"https://colab.research.google.com/notebooks/tensorflow_version.ipynb\" target=\"_blank\">more info</a>.</p>\n"
            ],
            "text/plain": [
              "<IPython.core.display.HTML object>"
            ]
          },
          "metadata": {
            "tags": []
          }
        }
      ]
    },
    {
      "cell_type": "code",
      "metadata": {
        "id": "0OglZAm0N0Yg",
        "colab_type": "code",
        "outputId": "0c0a7075-e2ea-473f-9a48-949d05c06ef3",
        "colab": {
          "base_uri": "https://localhost:8080/",
          "height": 386
        }
      },
      "source": [
        "path = 'data.csv'\n",
        "header = ['SeqName', 'TagID', 'Timestamp', 'Date', 'x','y','z','Activity']\n",
        "df = pd.read_csv(path, header=None, sep=\";\", names=header, decimal=\",\")\n",
        "dfcol = df.columns\n",
        "\n",
        "#df = df.sort_values(['SequenceName', 'date','activity'], ascending=True)\n",
        "nominal_features=['SeqName','TagID', 'Timestamp', 'Activity']\n",
        "for f in nominal_features:\n",
        "    le = LabelEncoder()\n",
        "    unique_values =df[f].unique()\n",
        "    le.fit(unique_values)\n",
        "    df[f] = le.transform(df[f])\n",
        "print(df.info())\n",
        "print(df.head())"
      ],
      "execution_count": 0,
      "outputs": [
        {
          "output_type": "stream",
          "text": [
            "<class 'pandas.core.frame.DataFrame'>\n",
            "RangeIndex: 164860 entries, 0 to 164859\n",
            "Data columns (total 8 columns):\n",
            "SeqName      164860 non-null int64\n",
            "TagID        164860 non-null int64\n",
            "Timestamp    164860 non-null int64\n",
            "Date         164860 non-null object\n",
            "x            164860 non-null float64\n",
            "y            164860 non-null float64\n",
            "z            164860 non-null float64\n",
            "Activity     164860 non-null int64\n",
            "dtypes: float64(3), int64(4), object(1)\n",
            "memory usage: 10.1+ MB\n",
            "None\n",
            "   SeqName  TagID  Timestamp  ...        y          z  Activity\n",
            "0        0      0          0  ...  189.243    0.50743        10\n",
            "1        0      3          0  ...  178.114  134.45000        10\n",
            "2        0      2          0  ...  182.646    0.96882        10\n",
            "3        0      0          0  ...  188.000    0.46698        10\n",
            "4        0      1          0  ...  207.246    0.48806        10\n",
            "\n",
            "[5 rows x 8 columns]\n"
          ],
          "name": "stdout"
        }
      ]
    },
    {
      "cell_type": "code",
      "metadata": {
        "id": "fjmBc1tsgYiO",
        "colab_type": "code",
        "outputId": "94617f24-c7bc-4ceb-c6d9-45a673273fb6",
        "colab": {
          "base_uri": "https://localhost:8080/",
          "height": 306
        }
      },
      "source": [
        "features = [ 'TagID', 'x', 'y', 'z'] #, 'Activity']\n",
        "scaler = preprocessing.MinMaxScaler().fit(df[features])\n",
        "dfscaler = scaler.transform(df[features])\n",
        "features = [ 'TagID', 'x', 'y', 'z']\n",
        "dfscaler = pd.DataFrame(dfscaler, columns = features)\n",
        "dfscaler[\"Activity\"] = df[\"Activity\"]\n",
        "\n",
        "\n",
        "\n",
        "print(dfscaler)"
      ],
      "execution_count": 0,
      "outputs": [
        {
          "output_type": "stream",
          "text": [
            "           TagID         x         y         z  Activity\n",
            "0       0.000000  0.705736  0.476363  0.494918        10\n",
            "1       1.000000  0.745490  0.448422  0.755015        10\n",
            "2       0.666667  0.757146  0.459800  0.495814        10\n",
            "3       0.000000  0.710060  0.473242  0.494839        10\n",
            "4       0.333333  0.751133  0.521562  0.494880        10\n",
            "...          ...       ...       ...       ...       ...\n",
            "164855  0.333333  0.557591  0.514560  0.494055        10\n",
            "164856  0.000000  0.588386  0.504557  0.494700        10\n",
            "164857  1.000000  0.554019  0.482210  0.756683        10\n",
            "164858  0.333333  0.547297  0.486087  0.494040        10\n",
            "164859  0.000000  0.557681  0.488201  0.494641        10\n",
            "\n",
            "[164860 rows x 5 columns]\n"
          ],
          "name": "stdout"
        },
        {
          "output_type": "stream",
          "text": [
            "/usr/local/lib/python3.6/dist-packages/sklearn/preprocessing/data.py:334: DataConversionWarning: Data with input dtype int64, float64 were all converted to float64 by MinMaxScaler.\n",
            "  return self.partial_fit(X, y)\n"
          ],
          "name": "stderr"
        }
      ]
    },
    {
      "cell_type": "code",
      "metadata": {
        "id": "O6mKhA75h78m",
        "colab_type": "code",
        "outputId": "9c3928e1-7fbb-427b-d8f5-ca14d38f6165",
        "colab": {
          "base_uri": "https://localhost:8080/",
          "height": 218
        }
      },
      "source": [
        "features = ['x', 'y', 'z', 'Activity']\n",
        "x = dfscaler[features]\n",
        "y = dfscaler['TagID']\n",
        "print(y)\n",
        "\n",
        "\n"
      ],
      "execution_count": 0,
      "outputs": [
        {
          "output_type": "stream",
          "text": [
            "0         0.000000\n",
            "1         1.000000\n",
            "2         0.666667\n",
            "3         0.000000\n",
            "4         0.333333\n",
            "            ...   \n",
            "164855    0.333333\n",
            "164856    0.000000\n",
            "164857    1.000000\n",
            "164858    0.333333\n",
            "164859    0.000000\n",
            "Name: TagID, Length: 164860, dtype: float64\n"
          ],
          "name": "stdout"
        }
      ]
    },
    {
      "cell_type": "code",
      "metadata": {
        "id": "Z0-1fbC2ny11",
        "colab_type": "code",
        "outputId": "cecba719-fbac-4b30-9d25-6c734d494687",
        "colab": {
          "base_uri": "https://localhost:8080/",
          "height": 275
        }
      },
      "source": [
        "dfscaler.plot(kind = \"scatter\", x = \"x\", y = \"y\", alpha = 0.1,\n",
        "              label = \"population\", \n",
        "             cmap = plt.get_cmap(\"jet\"), colorbar= True)\n",
        "plt.legend()"
      ],
      "execution_count": 0,
      "outputs": [
        {
          "output_type": "execute_result",
          "data": {
            "text/plain": [
              "<matplotlib.legend.Legend at 0x7f438fc6b208>"
            ]
          },
          "metadata": {
            "tags": []
          },
          "execution_count": 5
        },
        {
          "output_type": "display_data",
          "data": {
            "image/png": "[encoded data removed]",
            "text/plain": [
              "<Figure size 432x288 with 2 Axes>"
            ]
          },
          "metadata": {
            "tags": []
          }
        }
      ]
    },
    {
      "cell_type": "code",
      "metadata": {
        "id": "A0FdUJk-qvGu",
        "colab_type": "code",
        "outputId": "45fe4390-3368-40d9-c7ea-dfa2d935202e",
        "colab": {
          "base_uri": "https://localhost:8080/",
          "height": 134
        }
      },
      "source": [
        ""
      ],
      "execution_count": 0,
      "outputs": [
        {
          "output_type": "stream",
          "text": [
            "[[1.30217521 1.33909702 0.41281516 0.28883711 1.54715685]\n",
            " [1.42781736 1.58217121 0.21363337 3.56962836 1.54715685]\n",
            " [0.51781983 1.65344198 0.29474505 0.27554592 1.54715685]\n",
            " ...\n",
            " [1.42781736 0.41142009 0.45449854 3.59437346 1.54715685]\n",
            " [0.39217769 0.37032397 0.48213235 0.30186905 1.54715685]\n",
            " [1.30217521 0.43381493 0.49720208 0.29294641 1.54715685]]\n"
          ],
          "name": "stdout"
        }
      ]
    },
    {
      "cell_type": "code",
      "metadata": {
        "id": "cQ0kHocLrZGF",
        "colab_type": "code",
        "outputId": "4c7e0eb7-18fc-4b54-c525-dc2ccc79a06e",
        "colab": {
          "base_uri": "https://localhost:8080/",
          "height": 275
        }
      },
      "source": [
        "dfscaler.plot(kind = \"scatter\", x = \"x\", y = \"y\", alpha = 0.1,\n",
        "              label = \"population\", \n",
        "             cmap = plt.get_cmap(\"jet\"), colorbar= True)\n",
        "plt.legend()"
      ],
      "execution_count": 0,
      "outputs": [
        {
          "output_type": "execute_result",
          "data": {
            "text/plain": [
              "<matplotlib.legend.Legend at 0x7f438cf19780>"
            ]
          },
          "metadata": {
            "tags": []
          },
          "execution_count": 6
        },
        {
          "output_type": "display_data",
          "data": {
            "image/png": "[encoded data removed]",
            "text/plain": [
              "<Figure size 432x288 with 2 Axes>"
            ]
          },
          "metadata": {
            "tags": []
          }
        }
      ]
    },
    {
      "cell_type": "code",
      "metadata": {
        "id": "KH3-lFc30cNr",
        "colab_type": "code",
        "colab": {}
      },
      "source": [
        "x_train, x_test, y_train, y_test = train_test_split(x, y, test_size = 0.2)\n",
        "x_train , x_val, y_train, y_val = train_test_split(x_train, y_train, test_size = 0.1)"
      ],
      "execution_count": 0,
      "outputs": []
    },
    {
      "cell_type": "code",
      "metadata": {
        "id": "ARqZpmGmtsz2",
        "colab_type": "code",
        "colab": {}
      },
      "source": [
        "outlier_fraction = 0.1\n",
        "x_out, x_in = get_outliers_inliers(x_train, y_train)\n",
        "n_in = len(x_int)\n",
        "n_out = len(x_out)"
      ],
      "execution_count": 0,
      "outputs": []
    },
    {
      "cell_type": "code",
      "metadata": {
        "id": "HljbuVAWqoRG",
        "colab_type": "code",
        "outputId": "5be07fc5-26a2-4660-81e3-8e579384498a",
        "colab": {
          "base_uri": "https://localhost:8080/",
          "height": 356
        }
      },
      "source": [
        "from tensorflow.keras.models import *\n",
        "from tensorflow.keras.layers import *\n",
        "def modello():\n",
        "  model = Sequential()\n",
        "  \n",
        "  \n",
        "  model.add(Dense(128, input_dim = 4, activation = 'relu'))\n",
        "  model.add(Dense(64, activation = 'relu'))\n",
        "  model.add(Dense(32, activation = 'relu'))\n",
        "  model.add(Dense(4, activation = 'softmax'))\n",
        "  model.compile(loss= 'sparse_categorical_crossentropy', optimizer = 'adam', metrics = ['accuracy'])\n",
        "\n",
        "  return model\n",
        "modello = modello()\n",
        "modello.summary()"
      ],
      "execution_count": 0,
      "outputs": [
        {
          "output_type": "stream",
          "text": [
            "WARNING:tensorflow:From /usr/local/lib/python3.6/dist-packages/tensorflow_core/python/ops/resource_variable_ops.py:1630: calling BaseResourceVariable.__init__ (from tensorflow.python.ops.resource_variable_ops) with constraint is deprecated and will be removed in a future version.\n",
            "Instructions for updating:\n",
            "If using Keras pass *_constraint arguments to layers.\n",
            "Model: \"sequential_1\"\n",
            "_________________________________________________________________\n",
            "Layer (type)                 Output Shape              Param #   \n",
            "=================================================================\n",
            "dense (Dense)                (None, 128)               640       \n",
            "_________________________________________________________________\n",
            "dense_1 (Dense)              (None, 64)                8256      \n",
            "_________________________________________________________________\n",
            "dense_2 (Dense)              (None, 32)                2080      \n",
            "_________________________________________________________________\n",
            "dense_3 (Dense)              (None, 4)                 132       \n",
            "=================================================================\n",
            "Total params: 11,108\n",
            "Trainable params: 11,108\n",
            "Non-trainable params: 0\n",
            "_________________________________________________________________\n"
          ],
          "name": "stdout"
        }
      ]
    },
    {
      "cell_type": "code",
      "metadata": {
        "id": "kNsrfsaMZBJI",
        "colab_type": "code",
        "colab": {}
      },
      "source": [
        "def conv():\n",
        "  model = Sequential()\n",
        "  model.add(Conv1D(64, 4, activation = \"relu\", padding = \"same\", input_shape = (4,)))\n",
        "\n",
        "#Parametri:\n",
        "#7x7=49 pesi\n",
        "#1 bias\n",
        "#50 parametri; 50 x 64 = 3200\n",
        "\n",
        "  model.add(Conv1D(128,4, activation = \"relu\", padding =\"same\"))\n",
        "  model.add(Conv1D(128,4, activation = \"relu\", padding =\"same\")) #ci sono due layers computazionali, per questo è ripetuto\n",
        "  model.add(MaxPooling1D(2))\n",
        "  model.add(Conv1D(256,4, activation = \"relu\", padding =\"same\"))\n",
        "  model.add(Conv1D(256,4, activation = \"relu\", padding =\"same\"))\n",
        "  model.add(MaxPooling1D(2))\n",
        "  model.add(Flatten())\n",
        "  model.add(Dense(128, activation = \"softmax\"))\n",
        "  model.add(Dropout(0.5))\n",
        "#layer di dropout(attivo solo in fase di addestramento): server per evitare l'overfittng e facilitare il learning.\n",
        "#Durante l'addestramente inibisce ad ogni passo una percentuale di neuroni, e cerca di far riconoscere gli oggetti usando solo una parte di neuroni\n",
        "# 0.5 è la percentuale di neuroni che escludo dal task\n",
        "\n",
        "  model.add(Dense(64, activation = \"relu\"))\n",
        "  model.add(Dropout(0.5))\n",
        "  model.add(Dense(10, activation = \"softmax\"))\n",
        "\n",
        "#compilazione modello \n",
        "  model.compile(loss=\"sparse_categorical_crossentropy\", optimizer=\"adam\", metrics=[\"accuracy\"])\n",
        "  model.summary()\n",
        "  return model\n",
        "modello = conv()\n"
      ],
      "execution_count": 0,
      "outputs": []
    },
    {
      "cell_type": "code",
      "metadata": {
        "id": "xCWMOOIHtNBM",
        "colab_type": "code",
        "colab": {}
      },
      "source": [
        ""
      ],
      "execution_count": 0,
      "outputs": []
    },
    {
      "cell_type": "code",
      "metadata": {
        "id": "BSFuQ1P-tat4",
        "colab_type": "code",
        "outputId": "8fd9eca6-ed5c-4b4d-d3d3-4d227fd5f172",
        "colab": {
          "base_uri": "https://localhost:8080/",
          "height": 706
        }
      },
      "source": [
        "num_epochs = 20\n",
        "early_stop = callbacks.EarlyStopping(monitor = 'val_loss', patience = 30)\n",
        "\n",
        "history = modello.fit(x_train, y_train, epochs = num_epochs, batch_size= 50, validation_data=(x_val, y_val), callbacks = [early_stop])\n",
        "\n",
        "\n",
        "\n"
      ],
      "execution_count": 0,
      "outputs": [
        {
          "output_type": "stream",
          "text": [
            "Train on 118699 samples, validate on 13189 samples\n",
            "Epoch 1/20\n",
            "118699/118699 [==============================] - 5s 42us/sample - loss: 0.2625 - acc: 0.3978 - val_loss: 0.2583 - val_acc: 0.4084\n",
            "Epoch 2/20\n",
            "118699/118699 [==============================] - 5s 42us/sample - loss: 0.2623 - acc: 0.3976 - val_loss: 0.2635 - val_acc: 0.4063\n",
            "Epoch 3/20\n",
            "118699/118699 [==============================] - 5s 43us/sample - loss: 0.2618 - acc: 0.3986 - val_loss: 0.2608 - val_acc: 0.4135\n",
            "Epoch 4/20\n",
            "118699/118699 [==============================] - 5s 41us/sample - loss: 0.2610 - acc: 0.3987 - val_loss: 0.2641 - val_acc: 0.4000\n",
            "Epoch 5/20\n",
            "118699/118699 [==============================] - 5s 43us/sample - loss: 0.2609 - acc: 0.3983 - val_loss: 0.2602 - val_acc: 0.3977\n",
            "Epoch 6/20\n",
            "118699/118699 [==============================] - 5s 43us/sample - loss: 0.2613 - acc: 0.3981 - val_loss: 0.2567 - val_acc: 0.4089\n",
            "Epoch 7/20\n",
            "118699/118699 [==============================] - 5s 42us/sample - loss: 0.2607 - acc: 0.3984 - val_loss: 0.2568 - val_acc: 0.4128\n",
            "Epoch 8/20\n",
            "118699/118699 [==============================] - 5s 43us/sample - loss: 0.2607 - acc: 0.3986 - val_loss: 0.2606 - val_acc: 0.4009\n",
            "Epoch 9/20\n",
            "118699/118699 [==============================] - 5s 42us/sample - loss: 0.2606 - acc: 0.3990 - val_loss: 0.2614 - val_acc: 0.4028\n",
            "Epoch 10/20\n",
            "118699/118699 [==============================] - 5s 42us/sample - loss: 0.2605 - acc: 0.3989 - val_loss: 0.2603 - val_acc: 0.3966\n",
            "Epoch 11/20\n",
            "118699/118699 [==============================] - 5s 42us/sample - loss: 0.2606 - acc: 0.3986 - val_loss: 0.2592 - val_acc: 0.4022\n",
            "Epoch 12/20\n",
            "118699/118699 [==============================] - 5s 42us/sample - loss: 0.2599 - acc: 0.3988 - val_loss: 0.2579 - val_acc: 0.4141\n",
            "Epoch 13/20\n",
            "118699/118699 [==============================] - 5s 41us/sample - loss: 0.2603 - acc: 0.3988 - val_loss: 0.2566 - val_acc: 0.4085\n",
            "Epoch 14/20\n",
            "118699/118699 [==============================] - 5s 41us/sample - loss: 0.2597 - acc: 0.3991 - val_loss: 0.2534 - val_acc: 0.4101\n",
            "Epoch 15/20\n",
            "118699/118699 [==============================] - 5s 42us/sample - loss: 0.2595 - acc: 0.3986 - val_loss: 0.2581 - val_acc: 0.4075\n",
            "Epoch 16/20\n",
            "118699/118699 [==============================] - 5s 41us/sample - loss: 0.2598 - acc: 0.3991 - val_loss: 0.2534 - val_acc: 0.4086\n",
            "Epoch 17/20\n",
            "118699/118699 [==============================] - 5s 43us/sample - loss: 0.2600 - acc: 0.3986 - val_loss: 0.2567 - val_acc: 0.4122\n",
            "Epoch 18/20\n",
            "118699/118699 [==============================] - 5s 44us/sample - loss: 0.2599 - acc: 0.3984 - val_loss: 0.2558 - val_acc: 0.4119\n",
            "Epoch 19/20\n",
            "118699/118699 [==============================] - 5s 43us/sample - loss: 0.2589 - acc: 0.3995 - val_loss: 0.2629 - val_acc: 0.4024\n",
            "Epoch 20/20\n",
            "118699/118699 [==============================] - 5s 42us/sample - loss: 0.2587 - acc: 0.3992 - val_loss: 0.2561 - val_acc: 0.4156\n"
          ],
          "name": "stdout"
        }
      ]
    },
    {
      "cell_type": "code",
      "metadata": {
        "id": "PX6hdaK7tuSJ",
        "colab_type": "code",
        "outputId": "2046c7a3-42b4-45c0-a337-dd5bde45869c",
        "colab": {
          "base_uri": "https://localhost:8080/",
          "height": 118
        }
      },
      "source": [
        "score = modello.evaluate( x_train, y_train)\n",
        "print(\"\\n Training Accuracy\", score[1])\n",
        "score = modello.evaluate(x_test, y_test)\n",
        "print (\" \\n Testing Accuracy\", score[1])"
      ],
      "execution_count": 0,
      "outputs": [
        {
          "output_type": "stream",
          "text": [
            "118699/118699 [==============================] - 5s 39us/sample - loss: 0.2558 - acc: 0.4077\n",
            "\n",
            " Training Accuracy 0.40770352\n",
            "32972/32972 [==============================] - 1s 38us/sample - loss: 0.2623 - acc: 0.4107\n",
            " \n",
            " Testing Accuracy 0.41071212\n"
          ],
          "name": "stdout"
        }
      ]
    },
    {
      "cell_type": "code",
      "metadata": {
        "id": "dS3-Bp4ttwrU",
        "colab_type": "code",
        "outputId": "962886b0-28c3-43a7-ec89-c7fd6181de19",
        "colab": {
          "base_uri": "https://localhost:8080/",
          "height": 229
        }
      },
      "source": [
        "train_loss = history.history['loss']\n",
        "val_loss = history.history['val_loss']\n",
        "train_acc = history.history['accuracy']\n",
        "val_acc = history.history['val_accuracy']\n",
        "xc=range(num_epochs)\n"
      ],
      "execution_count": 0,
      "outputs": [
        {
          "output_type": "error",
          "ename": "KeyError",
          "evalue": "ignored",
          "traceback": [
            "\u001b[0;31m---------------------------------------------------------------------------\u001b[0m",
            "\u001b[0;31mKeyError\u001b[0m                                  Traceback (most recent call last)",
            "\u001b[0;32m<ipython-input-40-3b0868f933f5>\u001b[0m in \u001b[0;36m<module>\u001b[0;34m()\u001b[0m\n\u001b[1;32m      1\u001b[0m \u001b[0mtrain_loss\u001b[0m \u001b[0;34m=\u001b[0m \u001b[0mhistory\u001b[0m\u001b[0;34m.\u001b[0m\u001b[0mhistory\u001b[0m\u001b[0;34m[\u001b[0m\u001b[0;34m'loss'\u001b[0m\u001b[0;34m]\u001b[0m\u001b[0;34m\u001b[0m\u001b[0;34m\u001b[0m\u001b[0m\n\u001b[1;32m      2\u001b[0m \u001b[0mval_loss\u001b[0m \u001b[0;34m=\u001b[0m \u001b[0mhistory\u001b[0m\u001b[0;34m.\u001b[0m\u001b[0mhistory\u001b[0m\u001b[0;34m[\u001b[0m\u001b[0;34m'val_loss'\u001b[0m\u001b[0;34m]\u001b[0m\u001b[0;34m\u001b[0m\u001b[0;34m\u001b[0m\u001b[0m\n\u001b[0;32m----> 3\u001b[0;31m \u001b[0mtrain_acc\u001b[0m \u001b[0;34m=\u001b[0m \u001b[0mhistory\u001b[0m\u001b[0;34m.\u001b[0m\u001b[0mhistory\u001b[0m\u001b[0;34m[\u001b[0m\u001b[0;34m'accuracy'\u001b[0m\u001b[0;34m]\u001b[0m\u001b[0;34m\u001b[0m\u001b[0;34m\u001b[0m\u001b[0m\n\u001b[0m\u001b[1;32m      4\u001b[0m \u001b[0mval_acc\u001b[0m \u001b[0;34m=\u001b[0m \u001b[0mhistory\u001b[0m\u001b[0;34m.\u001b[0m\u001b[0mhistory\u001b[0m\u001b[0;34m[\u001b[0m\u001b[0;34m'val_accuracy'\u001b[0m\u001b[0;34m]\u001b[0m\u001b[0;34m\u001b[0m\u001b[0;34m\u001b[0m\u001b[0m\n\u001b[1;32m      5\u001b[0m \u001b[0mxc\u001b[0m\u001b[0;34m=\u001b[0m\u001b[0mrange\u001b[0m\u001b[0;34m(\u001b[0m\u001b[0mnum_epochs\u001b[0m\u001b[0;34m)\u001b[0m\u001b[0;34m\u001b[0m\u001b[0;34m\u001b[0m\u001b[0m\n",
            "\u001b[0;31mKeyError\u001b[0m: 'accuracy'"
          ]
        }
      ]
    },
    {
      "cell_type": "code",
      "metadata": {
        "id": "ybHZtyZWsHYm",
        "colab_type": "code",
        "colab": {}
      },
      "source": [
        "\n",
        "fig = plt.figure(1, figsize=(7,5))\n",
        "plt.plot(xc,train_loss)\n",
        "\n",
        "plt.plot(xc,val_loss)\n",
        "plt.xlabel('Number of episodes')\n",
        "plt.ylabel('loss')\n",
        "plt.grid(True)\n",
        "plt.legend(['Training', 'Validation'])\n",
        "fig.savefig('result-3.png')\n",
        "\n",
        "fig = plt.figure(2, figsize=(7,5))\n",
        "plt.plot(xc, train_acc)\n",
        "plt.plot(xc, val_acc)\n",
        "plt.xlabel('Number of episodes')\n",
        "plt.ylabel('Accuracy')\n",
        "plt.grid(True)\n",
        "plt.legend(['Training', 'Validation'])\n",
        "fig.savefig('result-4.png')"
      ],
      "execution_count": 0,
      "outputs": []
    }
  ]
}